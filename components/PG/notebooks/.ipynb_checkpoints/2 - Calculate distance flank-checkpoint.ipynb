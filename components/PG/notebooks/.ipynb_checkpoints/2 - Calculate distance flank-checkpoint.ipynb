{
 "cells": [
  {
   "cell_type": "code",
   "execution_count": 2,
   "id": "18b58d8c",
   "metadata": {},
   "outputs": [],
   "source": [
    "# load packages\n",
    "import numpy as np\n",
    "import pandas as pd\n",
    "import argparse\n",
    "import sys\n",
    "import os\n",
    "import pickle\n",
    "from tqdm import tqdm\n",
    "\n",
    "import torch\n",
    "import esm\n",
    "from tqdm import tqdm\n",
    "\n",
    "\n",
    "\n"
   ]
  },
  {
   "cell_type": "code",
   "execution_count": 2,
   "id": "17afae38",
   "metadata": {},
   "outputs": [],
   "source": [
    "# read peptides list\n",
    "PG_df = pd.read_csv('./../../../data/PG/PG.csv', index_col=0)\n",
    "\n",
    "# read embeddings\n",
    "flank0_df = pd.read_csv('./../../../data/PG/esm1b/flank'+str(0)+'_peptides_esm1b.csv',index_col=0)\n",
    "flank1_df = pd.read_csv('./../../../data/PG/esm1b/flank'+str(1)+'_peptides_esm1b.csv',index_col=0)\n",
    "flank2_df = pd.read_csv('./../../../data/PG/esm1b/flank'+str(2)+'_peptides_esm1b.csv',index_col=0)\n",
    "flank3_df = pd.read_csv('./../../../data/PG/esm1b/flank'+str(3)+'_peptides_esm1b.csv',index_col=0)\n",
    "flank4_df = pd.read_csv('./../../../data/PG/esm1b/flank'+str(4)+'_peptides_esm1b.csv',index_col=0)\n",
    "flank5_df = pd.read_csv('./../../../data/PG/esm1b/flank'+str(5)+'_peptides_esm1b.csv',index_col=0)\n"
   ]
  },
  {
   "cell_type": "code",
   "execution_count": null,
   "id": "f32a2c70",
   "metadata": {},
   "outputs": [],
   "source": [
    "flank = 2\n",
    "flank_df = pd.read_csv('./../../../data/PG/esm1b/flank'+str(flank)+'_peptides_esm1b.csv',index_col=0)\n",
    "flank_df['peptide'] = flank_df[str(flank)+'flank']\n",
    "flank_df = flank_df.drop([+str(flank)+'flank'],axis=1)\n",
    "flank_df.to_csv('./../../../data/PG/esm1b/flank'+str(flank)+'_peptides_esm1b.csv')"
   ]
  },
  {
   "cell_type": "code",
   "execution_count": 3,
   "id": "c486b786",
   "metadata": {},
   "outputs": [
    {
     "data": {
      "text/plain": [
       "array([1.35622268, 1.36608983, 1.36863582, ..., 1.37690899, 1.37940646,\n",
       "       1.34088429])"
      ]
     },
     "execution_count": 3,
     "metadata": {},
     "output_type": "execute_result"
    }
   ],
   "source": [
    "assert np.all([a in b for a,b in zip(flank4_df['peptide'],flank5_df['peptide'])])==True\n",
    "\n",
    "flank4_arr = flank4_df.drop(['hit','4flank'],axis=1).to_numpy()\n",
    "flank5_arr = flank5_df.drop(['hit','5flank'],axis=1).to_numpy()\n",
    "distance_mat = flank5_arr - flank4_arr # error\n",
    "distance_mat = np.square(distance_mat) #squared\n",
    "distance_mat = np.sum(distance_mat,axis=1) #sum\n",
    "distance_mat = distance_mat/flank4_arr.shape[-1] # mean\n",
    "distance_mat = np.sqrt(distance_mat)  #rmse\n",
    "distance_mat"
   ]
  },
  {
   "cell_type": "code",
   "execution_count": 4,
   "id": "69e51e23",
   "metadata": {},
   "outputs": [],
   "source": [
    "# with open('./../../../data/PG/esm1b/distance_flank1_flank0.pkl','wb') as f:\n",
    "#     pickle.dump(distance_mat, f)\n",
    "# f.close()"
   ]
  },
  {
   "cell_type": "code",
   "execution_count": 5,
   "id": "e8ce973c",
   "metadata": {},
   "outputs": [
    {
     "data": {
      "text/plain": [
       "array([0.96744565, 0.96594316, 0.96077048, ..., 0.96586335, 0.97102323,\n",
       "       0.96881551])"
      ]
     },
     "execution_count": 5,
     "metadata": {},
     "output_type": "execute_result"
    }
   ],
   "source": [
    "# flank0_arr = np.square(flank0_arr) #squared\n",
    "# flank0_arr = np.sum(flank0_arr,axis=1) #sum\n",
    "# flank0_arr = flank0_arr/1280 # mean\n",
    "# flank0_arr = np.sqrt(flank0_arr)  #rmse\n",
    "\n",
    "\n",
    "# with open('./../../../data/PG/esm1b/flank0_peptide_length.pkl','wb') as f:\n",
    "#     pickle.dump(distance_mat, f)\n",
    "# f.close()\n",
    "\n",
    "# flank0_arr"
   ]
  },
  {
   "cell_type": "code",
   "execution_count": null,
   "id": "75585c7d",
   "metadata": {},
   "outputs": [],
   "source": []
  }
 ],
 "metadata": {
  "kernelspec": {
   "display_name": "Python 3 (ipykernel)",
   "language": "python",
   "name": "python3"
  },
  "language_info": {
   "codemirror_mode": {
    "name": "ipython",
    "version": 3
   },
   "file_extension": ".py",
   "mimetype": "text/x-python",
   "name": "python",
   "nbconvert_exporter": "python",
   "pygments_lexer": "ipython3",
   "version": "3.8.16"
  }
 },
 "nbformat": 4,
 "nbformat_minor": 5
}
