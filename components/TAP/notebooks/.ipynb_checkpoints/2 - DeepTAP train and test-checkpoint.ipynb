{
 "cells": [
  {
   "cell_type": "code",
   "execution_count": 2,
   "id": "84c4ba07",
   "metadata": {},
   "outputs": [],
   "source": [
    "import sys\n",
    "\n",
    "import os\n",
    "import json\n",
    "import time\n",
    "import argparse\n",
    "\n",
    "import pandas as pd\n",
    "import numpy as np\n",
    "\n",
    "from Bio import SeqIO\n",
    "import esm\n",
    "\n",
    "import torch\n",
    "from torch import nn\n",
    "import torch.nn.functional as F\n",
    "import torch.optim as optim\n",
    "from torch.utils.data import Dataset, DataLoader, Subset\n",
    "\n",
    "from torchinfo import summary\n",
    "\n",
    "from sklearn.metrics import f1_score, roc_auc_score, roc_curve, auc, precision_recall_curve\n",
    "from sklearn.model_selection import train_test_split\n",
    "from sklearn.preprocessing import StandardScaler\n",
    "import wandb\n",
    "\n",
    "sys.path.append('./../../../src/')\n",
    "\n",
    "from utils import *\n",
    "from utils_torch import * \n",
    "from MHCCBM import *\n",
    "from TAPPredictor import *\n",
    "from tqdm import tqdm"
   ]
  },
  {
   "cell_type": "code",
   "execution_count": 5,
   "id": "519dcace",
   "metadata": {},
   "outputs": [],
   "source": [
    "train_df = pd.read_csv('./../../../data/TAP/DeepTAP_train_test_split/train.csv')\n",
    "test_df = pd.read_csv('./../../../data/TAP/DeepTAP_train_test_split/test.csv')\n",
    "\n",
    "with open('./../../../data/TAP/classification_peptides_esm1b.pkl', 'rb') as f:\n",
    "    peptide_embedding_dict = pickle.load(f)\n",
    "f.close()\n",
    "\n",
    "train_sequences = torch.cat([peptide_embedding_dict[p] for p in train_df['peptide'].to_list()])\n",
    "train_labels = train_df['label'].to_numpy()\n",
    "test_sequences = torch.cat([peptide_embedding_dict[p] for p in test_df['peptide'].to_list()])\n",
    "test_labels = test_df['label'].to_numpy()\n"
   ]
  },
  {
   "cell_type": "markdown",
   "id": "6c6062fd",
   "metadata": {},
   "source": [
    "## Performance of DeepTAP on it's own datasplit"
   ]
  },
  {
   "cell_type": "code",
   "execution_count": 2,
   "id": "2c6c4760",
   "metadata": {},
   "outputs": [
    {
     "name": "stdout",
     "output_type": "stream",
     "text": [
      "AUROC:  0.91330110712615\n",
      "f1:  0.870425521932911\n",
      "AUPRC:  0.9571925284874283\n"
     ]
    }
   ],
   "source": [
    "deeptap_split_df = pd.read_csv('./../../../data/TAP/DeepTAP_train_test_split/test.csv')\n",
    "deeptap_split_result_df = pd.read_csv('./../../../data/TAP/DeepTAP_train_test_split/deeptap_results/test_peptides_deeptap_DeepTAP_cla_predresult.csv')\n",
    "\n",
    "deeptap_merged_df = deeptap_split_result_df.merge(deeptap_split_df,on='peptide')\n",
    "\n",
    "labels_ls = deeptap_merged_df['label']\n",
    "proba_ls = deeptap_merged_df['pred_score']\n",
    "preds_ls = deeptap_merged_df['pred_label']\n",
    "\n",
    "fpr, tpr, _ = roc_curve(labels_ls, proba_ls)\n",
    "print(\"AUROC: \", auc(fpr, tpr))\n",
    "\n",
    "f1 = f1_score(labels_ls, preds_ls, average='weighted')\n",
    "print(\"f1: \",f1)\n",
    "        \n",
    "precision, recall, _ = precision_recall_curve(labels_ls, proba_ls)\n",
    "auprc_score = auc(recall, precision)\n",
    "print(\"AUPRC: \", auprc_score)"
   ]
  },
  {
   "cell_type": "markdown",
   "id": "2cf54be4",
   "metadata": {},
   "source": [
    "# DeepTAP on splits with seeds"
   ]
  },
  {
   "cell_type": "code",
   "execution_count": 11,
   "id": "128a9a9d",
   "metadata": {},
   "outputs": [
    {
     "name": "stdout",
     "output_type": "stream",
     "text": [
      "AUROC:  0.8987654320987655\n",
      "f1:  0.8194984431054703\n",
      "AUPRC:  0.9028300578979659\n"
     ]
    }
   ],
   "source": [
    "# Split the data\n",
    "TAP_df = pd.read_csv('./../../../data/TAP/classification_DS868.csv',sep='\\t')\n",
    "seed = 42\n",
    "\n",
    "train_sequences, test_sequences, train_labels, test_labels = train_test_split(TAP_df['peptide'], TAP_df['label'], \n",
    "                                                                              test_size=0.2, random_state=seed, stratify=TAP_df['label'])\n",
    "\n",
    "# valid_sequences, test_sequences, valid_labels, test_labels = train_test_split(temp_sequences, temp_labels, \n",
    "#                                                                               test_size=0.5, random_state=seed, stratify=temp_labels)\n",
    "\n",
    "# pd.DataFrame({'peptide':test_sequences.to_list()}).to_csv('./../../../data/TAP/test_peptides_splits'+str(seed)+'.csv', \n",
    "#                                                           index=False)\n",
    "\n",
    "split_df = pd.DataFrame({'peptide':test_sequences,'label':test_labels}).reset_index(drop=True)\n",
    "\n",
    "split_result_df = pd.read_csv('./../../../data/TAP/DeepTAP_train_test_split/deeptap_results/test_peptides_splits'+str(seed)+'_DeepTAP_cla_predresult.csv')\n",
    "\n",
    "split_merged_df = split_result_df.merge(split_df,on='peptide')\n",
    "\n",
    "labels_ls = split_merged_df['label']\n",
    "proba_ls = split_merged_df['pred_score']\n",
    "preds_ls = split_merged_df['pred_label']\n",
    "\n",
    "fpr, tpr, _ = roc_curve(labels_ls, proba_ls)\n",
    "print(\"AUROC: \", auc(fpr, tpr))\n",
    "\n",
    "f1 = f1_score(labels_ls, preds_ls, average='weighted')\n",
    "print(\"f1: \",f1)\n",
    "        \n",
    "precision, recall, _ = precision_recall_curve(labels_ls, proba_ls)\n",
    "auprc_score = auc(recall, precision)\n",
    "print(\"AUPRC: \", auprc_score)"
   ]
  },
  {
   "cell_type": "code",
   "execution_count": null,
   "id": "fc7f8438",
   "metadata": {},
   "outputs": [],
   "source": []
  },
  {
   "cell_type": "code",
   "execution_count": null,
   "id": "949b313e",
   "metadata": {},
   "outputs": [],
   "source": []
  },
  {
   "cell_type": "code",
   "execution_count": null,
   "id": "8a20f17d",
   "metadata": {},
   "outputs": [],
   "source": []
  }
 ],
 "metadata": {
  "kernelspec": {
   "display_name": "Python 3 (ipykernel)",
   "language": "python",
   "name": "python3"
  },
  "language_info": {
   "codemirror_mode": {
    "name": "ipython",
    "version": 3
   },
   "file_extension": ".py",
   "mimetype": "text/x-python",
   "name": "python",
   "nbconvert_exporter": "python",
   "pygments_lexer": "ipython3",
   "version": "3.8.16"
  }
 },
 "nbformat": 4,
 "nbformat_minor": 5
}
