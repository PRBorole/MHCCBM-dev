{
 "cells": [
  {
   "cell_type": "code",
   "execution_count": 1,
   "id": "50621288",
   "metadata": {},
   "outputs": [],
   "source": [
    "import sys\n",
    "from tqdm import tqdm\n",
    "import os\n",
    "import json\n",
    "import time\n",
    "import argparse\n",
    "\n",
    "import pandas as pd\n",
    "import numpy as np\n",
    "\n",
    "from Bio import SeqIO\n",
    "import esm\n",
    "\n",
    "import torch\n",
    "from torch import nn\n",
    "import torch.nn.functional as F\n",
    "import torch.optim as optim\n",
    "from torch.utils.data import Dataset, DataLoader, Subset\n",
    "\n",
    "from torchinfo import summary\n",
    "\n",
    "from sklearn.metrics import f1_score, roc_auc_score, roc_curve, auc, precision_recall_curve\n",
    "from sklearn.model_selection import train_test_split\n",
    "from sklearn.preprocessing import StandardScaler\n",
    "\n",
    "import wandb\n",
    "\n",
    "\n",
    "# Get the path of the Python script\n",
    "sys.path.append('./../../../src/')\n",
    "\n",
    "from utils import *\n",
    "from utils_torch import * \n",
    "from MHCCBM import *\n",
    "from TAPPredictor_CNN import *\n"
   ]
  },
  {
   "cell_type": "code",
   "execution_count": 2,
   "id": "9067d1b8",
   "metadata": {},
   "outputs": [
    {
     "name": "stdout",
     "output_type": "stream",
     "text": [
      "Seed:  42\n",
      "config:  {'project': 'MHCCBM', 'name': 'TAPCNNRun1', 'config': {'hidden_channels': [1024, 512, 256, 128, 16, 4], 'epochs': 200, 'classes': 2, 'batch_size': 8, 'lr': 1e-05, 'dataset': 'X.pkl, y.pkl (embedded peptide seq from classification', 'dropout_p': 0.0, 'architecture': 'CNN', 'seed': 42}}\n"
     ]
    }
   ],
   "source": [
    "seed = 42\n",
    "set_seed(42)\n",
    "print(\"Seed: \", seed)\n",
    "\n",
    "# load json file\n",
    "with open('./../config/final_configs_5runs/run1.json') as jsonfile:\n",
    "    config_dict = json.load(jsonfile)\n",
    "config = config_dict['config']\n",
    "print(\"config: \", config_dict)"
   ]
  },
  {
   "cell_type": "code",
   "execution_count": 15,
   "id": "8d1b06d7",
   "metadata": {},
   "outputs": [
    {
     "name": "stdout",
     "output_type": "stream",
     "text": [
      "Seed:  42\n",
      "tensor(0.4369)\n"
     ]
    }
   ],
   "source": [
    "\n",
    "\n",
    "seed = config['seed']\n",
    "set_seed(seed)\n",
    "print(\"Seed: \", seed)\n",
    "\n",
    "# load X and y\n",
    "with open('./../../../data/TAP/X.pkl','rb') as f:\n",
    "    X = pickle.load(f)\n",
    "f.close()\n",
    "\n",
    "with open('./../../../data/TAP/y.pkl','rb') as f:\n",
    "    y = pickle.load(f)\n",
    "f.close()\n",
    "\n",
    "# Scale the data\n",
    "scaler = StandardScaler()\n",
    "X = scaler.fit_transform(X.squeeze())\n",
    "X = torch.tensor(X, dtype=torch.float32).reshape(X.shape[0],1,X.shape[1])\n",
    "\n",
    "# Split the data\n",
    "train_sequences, temp_sequences, train_labels, temp_labels = train_test_split(X, y, test_size=0.2, random_state=seed, stratify=y)\n",
    "valid_sequences, test_sequences, valid_labels, test_labels = train_test_split(temp_sequences, temp_labels, test_size=0.5, random_state=seed, stratify=temp_labels)\n",
    "\n",
    "# Create dataset and dataloaders\n",
    "train_dataset = ProteinSequenceDataset(train_sequences, train_labels)\n",
    "valid_dataset = ProteinSequenceDataset(valid_sequences, valid_labels)\n",
    "test_dataset = ProteinSequenceDataset(test_sequences, test_labels)\n",
    "\n",
    "train_loader = DataLoader(train_dataset, batch_size=config['batch_size'], shuffle=True)\n",
    "valid_loader = DataLoader(valid_dataset, batch_size=config['batch_size'], shuffle=False)\n",
    "test_loader = DataLoader(test_dataset, batch_size=config['batch_size'], shuffle=False)\n",
    "\n",
    "\n",
    "# Calculate class weights\n",
    "labels_tensor = torch.tensor(train_labels)\n",
    "class_counts = torch.bincount(labels_tensor)\n",
    "pos_weight = class_counts[0]/class_counts[1]\n",
    "print(pos_weight)\n"
   ]
  },
  {
   "cell_type": "code",
   "execution_count": 16,
   "id": "f29a162b",
   "metadata": {},
   "outputs": [
    {
     "data": {
      "text/plain": [
       "torch.Size([694, 1, 1280])"
      ]
     },
     "execution_count": 16,
     "metadata": {},
     "output_type": "execute_result"
    }
   ],
   "source": [
    "train_sequences.shape"
   ]
  },
  {
   "cell_type": "code",
   "execution_count": 17,
   "id": "f7fecc66",
   "metadata": {},
   "outputs": [],
   "source": [
    "#### model init\n",
    "input_size = train_sequences.shape[2] #embedding size for esm2_t33_650M_UR50D (allele + peptide)\n",
    "model = TAPPredictor(input_size, \n",
    "                     hidden_channels=config['hidden_channels'], \n",
    "                     dropout_p=config['dropout_p'])\n"
   ]
  },
  {
   "cell_type": "code",
   "execution_count": 18,
   "id": "14f3ad19",
   "metadata": {},
   "outputs": [
    {
     "data": {
      "text/plain": [
       "===================================================================================================================\n",
       "Layer (type:depth-idx)                   Input Shape               Output Shape              Param #\n",
       "===================================================================================================================\n",
       "TAPPredictor                             [8, 1, 1280]              [8, 1]                    --\n",
       "├─Sequential: 1-1                        [8, 1, 1280]              [8, 1]                    --\n",
       "│    └─Conv1d: 2-1                       [8, 1, 1280]              [8, 1024, 1280]           4,096\n",
       "│    └─Tanh: 2-2                         [8, 1024, 1280]           [8, 1024, 1280]           --\n",
       "│    └─MaxPool1d: 2-3                    [8, 1024, 1280]           [8, 1024, 640]            --\n",
       "│    └─Conv1d: 2-4                       [8, 1024, 640]            [8, 512, 640]             1,573,376\n",
       "│    └─Tanh: 2-5                         [8, 512, 640]             [8, 512, 640]             --\n",
       "│    └─MaxPool1d: 2-6                    [8, 512, 640]             [8, 512, 320]             --\n",
       "│    └─Conv1d: 2-7                       [8, 512, 320]             [8, 256, 320]             393,472\n",
       "│    └─Tanh: 2-8                         [8, 256, 320]             [8, 256, 320]             --\n",
       "│    └─MaxPool1d: 2-9                    [8, 256, 320]             [8, 256, 160]             --\n",
       "│    └─Conv1d: 2-10                      [8, 256, 160]             [8, 128, 160]             98,432\n",
       "│    └─Tanh: 2-11                        [8, 128, 160]             [8, 128, 160]             --\n",
       "│    └─MaxPool1d: 2-12                   [8, 128, 160]             [8, 128, 80]              --\n",
       "│    └─Conv1d: 2-13                      [8, 128, 80]              [8, 16, 80]               6,160\n",
       "│    └─Tanh: 2-14                        [8, 16, 80]               [8, 16, 80]               --\n",
       "│    └─MaxPool1d: 2-15                   [8, 16, 80]               [8, 16, 40]               --\n",
       "│    └─Conv1d: 2-16                      [8, 16, 40]               [8, 4, 40]                196\n",
       "│    └─Tanh: 2-17                        [8, 4, 40]                [8, 4, 40]                --\n",
       "│    └─MaxPool1d: 2-18                   [8, 4, 40]                [8, 4, 20]                --\n",
       "│    └─Flatten: 2-19                     [8, 4, 20]                [8, 80]                   --\n",
       "│    └─Linear: 2-20                      [8, 80]                   [8, 1]                    81\n",
       "===================================================================================================================\n",
       "Total params: 2,075,813\n",
       "Trainable params: 2,075,813\n",
       "Non-trainable params: 0\n",
       "Total mult-adds (G): 9.23\n",
       "===================================================================================================================\n",
       "Input size (MB): 0.04\n",
       "Forward/backward pass size (MB): 111.50\n",
       "Params size (MB): 8.30\n",
       "Estimated Total Size (MB): 119.85\n",
       "==================================================================================================================="
      ]
     },
     "execution_count": 18,
     "metadata": {},
     "output_type": "execute_result"
    }
   ],
   "source": [
    "summary(model, input_size=(config['batch_size'],1,input_size), \n",
    "        col_names=[ \"input_size\",\"output_size\", \"num_params\"])"
   ]
  },
  {
   "cell_type": "code",
   "execution_count": 19,
   "id": "cb5de441",
   "metadata": {
    "scrolled": false
   },
   "outputs": [
    {
     "data": {
      "text/html": [
       "Finishing last run (ID:rho3005s) before initializing another..."
      ],
      "text/plain": [
       "<IPython.core.display.HTML object>"
      ]
     },
     "metadata": {},
     "output_type": "display_data"
    },
    {
     "data": {
      "text/html": [
       "Waiting for W&B process to finish... <strong style=\"color:green\">(success).</strong>"
      ],
      "text/plain": [
       "<IPython.core.display.HTML object>"
      ]
     },
     "metadata": {},
     "output_type": "display_data"
    },
    {
     "data": {
      "text/html": [
       " View run <strong style=\"color:#cdcd00\">TAPCNNRun1</strong> at: <a href='https://wandb.ai/prborole/MHCCBM/runs/rho3005s' target=\"_blank\">https://wandb.ai/prborole/MHCCBM/runs/rho3005s</a><br/>Synced 6 W&B file(s), 0 media file(s), 0 artifact file(s) and 0 other file(s)"
      ],
      "text/plain": [
       "<IPython.core.display.HTML object>"
      ]
     },
     "metadata": {},
     "output_type": "display_data"
    },
    {
     "data": {
      "text/html": [
       "Find logs at: <code>./wandb/run-20240723_110057-rho3005s/logs</code>"
      ],
      "text/plain": [
       "<IPython.core.display.HTML object>"
      ]
     },
     "metadata": {},
     "output_type": "display_data"
    },
    {
     "data": {
      "text/html": [
       "Successfully finished last run (ID:rho3005s). Initializing new run:<br/>"
      ],
      "text/plain": [
       "<IPython.core.display.HTML object>"
      ]
     },
     "metadata": {},
     "output_type": "display_data"
    },
    {
     "data": {
      "application/vnd.jupyter.widget-view+json": {
       "model_id": "5542cbfb001446329a654659953fe297",
       "version_major": 2,
       "version_minor": 0
      },
      "text/plain": [
       "VBox(children=(Label(value='Waiting for wandb.init()...\\r'), FloatProgress(value=0.016668877129753432, max=1.0…"
      ]
     },
     "metadata": {},
     "output_type": "display_data"
    },
    {
     "data": {
      "text/html": [
       "wandb version 0.17.5 is available!  To upgrade, please run:\n",
       " $ pip install wandb --upgrade"
      ],
      "text/plain": [
       "<IPython.core.display.HTML object>"
      ]
     },
     "metadata": {},
     "output_type": "display_data"
    },
    {
     "data": {
      "text/html": [
       "Tracking run with wandb version 0.15.3"
      ],
      "text/plain": [
       "<IPython.core.display.HTML object>"
      ]
     },
     "metadata": {},
     "output_type": "display_data"
    },
    {
     "data": {
      "text/html": [
       "Run data is saved locally in <code>/exports/csce/eddie/inf/groups/ajitha_project/piyush/MHCCBM/MHCCBM/components/TAP/notebooks/wandb/run-20240723_110235-9us8qq40</code>"
      ],
      "text/plain": [
       "<IPython.core.display.HTML object>"
      ]
     },
     "metadata": {},
     "output_type": "display_data"
    },
    {
     "data": {
      "text/html": [
       "Syncing run <strong><a href='https://wandb.ai/prborole/MHCCBM/runs/9us8qq40' target=\"_blank\">TAPCNNRun1</a></strong> to <a href='https://wandb.ai/prborole/MHCCBM' target=\"_blank\">Weights & Biases</a> (<a href='https://wandb.me/run' target=\"_blank\">docs</a>)<br/>"
      ],
      "text/plain": [
       "<IPython.core.display.HTML object>"
      ]
     },
     "metadata": {},
     "output_type": "display_data"
    },
    {
     "data": {
      "text/html": [
       " View project at <a href='https://wandb.ai/prborole/MHCCBM' target=\"_blank\">https://wandb.ai/prborole/MHCCBM</a>"
      ],
      "text/plain": [
       "<IPython.core.display.HTML object>"
      ]
     },
     "metadata": {},
     "output_type": "display_data"
    },
    {
     "data": {
      "text/html": [
       " View run at <a href='https://wandb.ai/prborole/MHCCBM/runs/9us8qq40' target=\"_blank\">https://wandb.ai/prborole/MHCCBM/runs/9us8qq40</a>"
      ],
      "text/plain": [
       "<IPython.core.display.HTML object>"
      ]
     },
     "metadata": {},
     "output_type": "display_data"
    },
    {
     "name": "stdout",
     "output_type": "stream",
     "text": [
      "epoch:  0\n",
      "[Epoch 1, Batch 10] loss: 0.458\n",
      "[Epoch 1, Batch 20] loss: 0.443\n",
      "[Epoch 1, Batch 30] loss: 0.393\n",
      "[Epoch 1, Batch 40] loss: 0.482\n",
      "[Epoch 1, Batch 50] loss: 0.448\n",
      "[Epoch 1, Batch 60] loss: 0.391\n",
      "[Epoch 1, Batch 70] loss: 0.404\n",
      "[Epoch 1, Batch 80] loss: 0.415\n",
      "epoch:  1\n",
      "[Epoch 2, Batch 10] loss: 0.413\n",
      "[Epoch 2, Batch 20] loss: 0.433\n"
     ]
    },
    {
     "name": "stderr",
     "output_type": "stream",
     "text": [
      "\n",
      "KeyboardInterrupt\n",
      "\n"
     ]
    }
   ],
   "source": [
    "# model training\n",
    "start = time.time()\n",
    "model.train_loop(train_loader=train_loader, valid_loader=valid_loader, pos_weight=pos_weight,\n",
    "                 test_loader=None, config_dict=config_dict)\n",
    "end = time.time()\n",
    "\n",
    "time_elapsed = end-start\n",
    "print(\"Time taken: \", time_elapsed)\n",
    "\n",
    "result = {'time_elapsed': [time_elapsed]}\n",
    "result['random_seed'] = [seed] \n",
    "\n",
    "#### performance\n",
    "f1, auroc, auprc = model.eval_dataset(train_loader)\n",
    "result['f1_train'], result['auroc_train'], result['auprc_train'] = [f1], [auroc], [auprc]\n",
    "\n",
    "\n",
    "f1, auroc, auprc = model.eval_dataset(test_loader)\n",
    "result['f1_test'], result['auroc_test'], result['auprc_test'] = [f1], [auroc], [auprc]\n",
    "\n",
    "print(result)"
   ]
  },
  {
   "cell_type": "code",
   "execution_count": null,
   "id": "9c1a4ecc",
   "metadata": {},
   "outputs": [],
   "source": []
  },
  {
   "cell_type": "code",
   "execution_count": null,
   "id": "4d0aa7de",
   "metadata": {},
   "outputs": [],
   "source": []
  }
 ],
 "metadata": {
  "kernelspec": {
   "display_name": "Python 3 (ipykernel)",
   "language": "python",
   "name": "python3"
  },
  "language_info": {
   "codemirror_mode": {
    "name": "ipython",
    "version": 3
   },
   "file_extension": ".py",
   "mimetype": "text/x-python",
   "name": "python",
   "nbconvert_exporter": "python",
   "pygments_lexer": "ipython3",
   "version": "3.8.16"
  }
 },
 "nbformat": 4,
 "nbformat_minor": 5
}
