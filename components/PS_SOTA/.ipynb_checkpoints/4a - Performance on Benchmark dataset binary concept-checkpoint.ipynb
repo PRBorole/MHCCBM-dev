{
 "cells": [
  {
   "cell_type": "markdown",
   "id": "0973a1a8",
   "metadata": {},
   "source": [
    "Benchmark for PS predictor is multiallelic-recent benchmark in Data S1"
   ]
  },
  {
   "cell_type": "code",
   "execution_count": 1,
   "id": "35ae2fe4",
   "metadata": {},
   "outputs": [],
   "source": [
    "import pandas as pd\n",
    "import numpy as np\n",
    "import matplotlib.pyplot as plt\n",
    "import seaborn as sns\n",
    "from tqdm import tqdm\n",
    "import pickle\n",
    "\n",
    "from sklearn.linear_model import LogisticRegression\n",
    "from sklearn.model_selection import train_test_split, StratifiedKFold\n",
    "from sklearn.metrics import auc, roc_curve, roc_auc_score, f1_score, precision_recall_curve, accuracy_score, recall_score,  precision_score\n"
   ]
  },
  {
   "cell_type": "code",
   "execution_count": 22,
   "id": "f13193ca",
   "metadata": {},
   "outputs": [],
   "source": [
    "# # read PG + BA data\n",
    "# mhcflurry_df = pd.read_csv('./../../data/BA/Data_S1.csv',index_col=0)\n",
    "# mhcflurry_df = mhcflurry_df[mhcflurry_df['sample_group']=='MULTIALLELIC-RECENT']\n",
    "# mhcflurry_df['BA_proba'] = [1-np.log(affinity)/np.log(50000) for affinity in mhcflurry_df['mhcflurry2.ba']]\n",
    "# mhcflurry_df['BA_y'] = [1 if affinity<500 else 0 for affinity in mhcflurry_df['mhcflurry2.ba']]\n",
    "\n",
    "# mhcflurry_df = mhcflurry_df.rename(columns={'mhcflurry2.ap.without_flanks':'PG_proba', \n",
    "#                                             'mhcflurry2.ps.without_flanks':'PS_proba',\n",
    "#                                             'mhcflurry2.ba_best_allele':'allele'})\n",
    "# mhcflurry_df['PG_y'] = [1 if proba>0.5 else 0 for proba in mhcflurry_df['PG_proba']]\n",
    "# mhcflurry_df['PS_y'] = [1 if proba>0.5 else 0 for proba in mhcflurry_df['PS_proba']]\n",
    "# mhcflurry_df = mhcflurry_df[['peptide','allele','hit',\n",
    "#                              'BA_proba','BA_y',\n",
    "#                              'PG_proba','PG_y',\n",
    "#                              'PS_proba','PS_y']]\n",
    "\n",
    "\n",
    "# # read TAP data\n",
    "# deeptap_df = pd.read_csv('./results/PS_benchmark_peptides_DeepTAP_cla_predresult.csv', index_col=0)\n",
    "# deeptap_df = deeptap_df.rename(columns={'pred_label':'TAP_y', 'pred_score':'TAP_proba'})\n",
    "\n",
    "# # read TD data\n",
    "# bashirova_df = pd.read_csv('./../../data/TD/processed_data//TD_full.csv',index_col=0)\n",
    "# bashirova_df = bashirova_df.rename(columns={'HLA_full':'allele'})\n",
    "# bashirova_df['TD_y'] = [1 if i>2 else 0 for i in bashirova_df['MFI_ratio']]\n",
    "\n"
   ]
  },
  {
   "cell_type": "code",
   "execution_count": 23,
   "id": "67f42187",
   "metadata": {},
   "outputs": [],
   "source": [
    "# PS_benchmark_df = mhcflurry_df.merge(deeptap_df, on='peptide').merge(bashirova_df, on='allele')\n",
    "# PS_benchmark_df.to_csv('./results/PS_benchmark.csv')\n",
    "# PS_benchmark_df"
   ]
  },
  {
   "cell_type": "code",
   "execution_count": 2,
   "id": "dd9dd67f",
   "metadata": {},
   "outputs": [],
   "source": [
    "# read training data\n",
    "PS_benchmark_df = pd.read_csv('./results/PS_benchmark.csv', index_col=0)"
   ]
  },
  {
   "cell_type": "code",
   "execution_count": 3,
   "id": "820244e9",
   "metadata": {},
   "outputs": [],
   "source": [
    "# keep only relevant\n",
    "PS_benchmark_df = PS_benchmark_df[['peptide',\n",
    "                                 'allele',\n",
    "                                 'PG_proba',\n",
    "                                 'TAP_proba',\n",
    "                                 'BA_proba',\n",
    "                                 'PG_y',\n",
    "                                 'TAP_y',\n",
    "                                 'BA_y',\n",
    "                                 'TD_y',\n",
    "                                 'PS_proba',\n",
    "                                 'PS_y',\n",
    "                                 'hit']]"
   ]
  },
  {
   "cell_type": "code",
   "execution_count": 4,
   "id": "5709bda7",
   "metadata": {},
   "outputs": [],
   "source": [
    "# Create X and y\n",
    "X = PS_benchmark_df[['PG_y',\n",
    "                    'TAP_y',\n",
    "                    'BA_y',\n",
    "                    'TD_y']].to_numpy()\n",
    "\n",
    "y = PS_benchmark_df[['hit']].to_numpy()"
   ]
  },
  {
   "cell_type": "code",
   "execution_count": 5,
   "id": "feec4fb5",
   "metadata": {},
   "outputs": [
    {
     "data": {
      "text/html": [
       "<style>#sk-container-id-1 {color: black;}#sk-container-id-1 pre{padding: 0;}#sk-container-id-1 div.sk-toggleable {background-color: white;}#sk-container-id-1 label.sk-toggleable__label {cursor: pointer;display: block;width: 100%;margin-bottom: 0;padding: 0.3em;box-sizing: border-box;text-align: center;}#sk-container-id-1 label.sk-toggleable__label-arrow:before {content: \"▸\";float: left;margin-right: 0.25em;color: #696969;}#sk-container-id-1 label.sk-toggleable__label-arrow:hover:before {color: black;}#sk-container-id-1 div.sk-estimator:hover label.sk-toggleable__label-arrow:before {color: black;}#sk-container-id-1 div.sk-toggleable__content {max-height: 0;max-width: 0;overflow: hidden;text-align: left;background-color: #f0f8ff;}#sk-container-id-1 div.sk-toggleable__content pre {margin: 0.2em;color: black;border-radius: 0.25em;background-color: #f0f8ff;}#sk-container-id-1 input.sk-toggleable__control:checked~div.sk-toggleable__content {max-height: 200px;max-width: 100%;overflow: auto;}#sk-container-id-1 input.sk-toggleable__control:checked~label.sk-toggleable__label-arrow:before {content: \"▾\";}#sk-container-id-1 div.sk-estimator input.sk-toggleable__control:checked~label.sk-toggleable__label {background-color: #d4ebff;}#sk-container-id-1 div.sk-label input.sk-toggleable__control:checked~label.sk-toggleable__label {background-color: #d4ebff;}#sk-container-id-1 input.sk-hidden--visually {border: 0;clip: rect(1px 1px 1px 1px);clip: rect(1px, 1px, 1px, 1px);height: 1px;margin: -1px;overflow: hidden;padding: 0;position: absolute;width: 1px;}#sk-container-id-1 div.sk-estimator {font-family: monospace;background-color: #f0f8ff;border: 1px dotted black;border-radius: 0.25em;box-sizing: border-box;margin-bottom: 0.5em;}#sk-container-id-1 div.sk-estimator:hover {background-color: #d4ebff;}#sk-container-id-1 div.sk-parallel-item::after {content: \"\";width: 100%;border-bottom: 1px solid gray;flex-grow: 1;}#sk-container-id-1 div.sk-label:hover label.sk-toggleable__label {background-color: #d4ebff;}#sk-container-id-1 div.sk-serial::before {content: \"\";position: absolute;border-left: 1px solid gray;box-sizing: border-box;top: 0;bottom: 0;left: 50%;z-index: 0;}#sk-container-id-1 div.sk-serial {display: flex;flex-direction: column;align-items: center;background-color: white;padding-right: 0.2em;padding-left: 0.2em;position: relative;}#sk-container-id-1 div.sk-item {position: relative;z-index: 1;}#sk-container-id-1 div.sk-parallel {display: flex;align-items: stretch;justify-content: center;background-color: white;position: relative;}#sk-container-id-1 div.sk-item::before, #sk-container-id-1 div.sk-parallel-item::before {content: \"\";position: absolute;border-left: 1px solid gray;box-sizing: border-box;top: 0;bottom: 0;left: 50%;z-index: -1;}#sk-container-id-1 div.sk-parallel-item {display: flex;flex-direction: column;z-index: 1;position: relative;background-color: white;}#sk-container-id-1 div.sk-parallel-item:first-child::after {align-self: flex-end;width: 50%;}#sk-container-id-1 div.sk-parallel-item:last-child::after {align-self: flex-start;width: 50%;}#sk-container-id-1 div.sk-parallel-item:only-child::after {width: 0;}#sk-container-id-1 div.sk-dashed-wrapped {border: 1px dashed gray;margin: 0 0.4em 0.5em 0.4em;box-sizing: border-box;padding-bottom: 0.4em;background-color: white;}#sk-container-id-1 div.sk-label label {font-family: monospace;font-weight: bold;display: inline-block;line-height: 1.2em;}#sk-container-id-1 div.sk-label-container {text-align: center;}#sk-container-id-1 div.sk-container {/* jupyter's `normalize.less` sets `[hidden] { display: none; }` but bootstrap.min.css set `[hidden] { display: none !important; }` so we also need the `!important` here to be able to override the default hidden behavior on the sphinx rendered scikit-learn.org. See: https://github.com/scikit-learn/scikit-learn/issues/21755 */display: inline-block !important;position: relative;}#sk-container-id-1 div.sk-text-repr-fallback {display: none;}</style><div id=\"sk-container-id-1\" class=\"sk-top-container\"><div class=\"sk-text-repr-fallback\"><pre>LogisticRegression(random_state=0)</pre><b>In a Jupyter environment, please rerun this cell to show the HTML representation or trust the notebook. <br />On GitHub, the HTML representation is unable to render, please try loading this page with nbviewer.org.</b></div><div class=\"sk-container\" hidden><div class=\"sk-item\"><div class=\"sk-estimator sk-toggleable\"><input class=\"sk-toggleable__control sk-hidden--visually\" id=\"sk-estimator-id-1\" type=\"checkbox\" checked><label for=\"sk-estimator-id-1\" class=\"sk-toggleable__label sk-toggleable__label-arrow\">LogisticRegression</label><div class=\"sk-toggleable__content\"><pre>LogisticRegression(random_state=0)</pre></div></div></div></div></div>"
      ],
      "text/plain": [
       "LogisticRegression(random_state=0)"
      ]
     },
     "execution_count": 5,
     "metadata": {},
     "output_type": "execute_result"
    }
   ],
   "source": [
    "# load model\n",
    "with open('./models/PS_SOTA_clf_binary.pkl', 'rb') as f:\n",
    "    clf = pickle.load(f)\n",
    "f.close()\n",
    "\n",
    "clf"
   ]
  },
  {
   "cell_type": "code",
   "execution_count": 6,
   "id": "00cdcbbf",
   "metadata": {},
   "outputs": [
    {
     "name": "stdout",
     "output_type": "stream",
     "text": [
      "AUROC:  0.8672172262989674\n",
      "AUPRC:  0.25748969317636\n",
      "f1:  0.12956662271934677\n",
      "accuracy:  0.9081402055192627\n",
      "precision:  0.07148527784187124\n",
      "recall:  0.6909991305333989\n"
     ]
    }
   ],
   "source": [
    "y_pred = clf.predict(X)\n",
    "y_proba_pred = clf.predict_proba(X)\n",
    "\n",
    "y_pred = np.where(y_proba_pred[:,1]<0.5,0,1)\n",
    "AUROC = roc_auc_score(y, y_proba_pred[:,1])\n",
    "print(\"AUROC: \", AUROC)\n",
    "\n",
    "# calculate precision-recall curve\n",
    "precision, recall, thresholds = precision_recall_curve(y, y_proba_pred[:,1])\n",
    "AUPRC = auc(recall, precision)\n",
    "print(\"AUPRC: \", AUPRC)\n",
    "\n",
    "# calculate f1 score\n",
    "f1 = f1_score(y, y_pred)\n",
    "print(\"f1: \", f1)\n",
    "\n",
    "# calculate accuracy score\n",
    "accuracy = accuracy_score(y, y_pred)\n",
    "print(\"accuracy: \", accuracy)\n",
    "\n",
    "# calculate precision score\n",
    "precision = precision_score(y, y_pred)\n",
    "print(\"precision: \", precision)\n",
    "\n",
    "# calculate recall score\n",
    "recall = recall_score(y, y_pred)\n",
    "print(\"recall: \", recall)\n"
   ]
  },
  {
   "cell_type": "code",
   "execution_count": 20,
   "id": "8b18d7ba",
   "metadata": {},
   "outputs": [
    {
     "name": "stdout",
     "output_type": "stream",
     "text": [
      "AUROC:  0.9169726752843714\n",
      "AUPRC:  0.3761183990472482\n",
      "f1:  0.2085681075994908\n",
      "accuracy:  0.946518911826596\n",
      "precision:  0.12217200438343373\n",
      "recall:  0.7122443579178165\n"
     ]
    }
   ],
   "source": [
    "# using MHCflurry -PS\n",
    "y = PS_benchmark_df['hit'].to_numpy()\n",
    "y_pred = PS_benchmark_df['PS_y'].to_numpy()\n",
    "y_proba_pred = PS_benchmark_df['PS_proba'].to_numpy()\n",
    "\n",
    "AUROC = roc_auc_score(y, y_proba_pred)\n",
    "print(\"AUROC: \", AUROC)\n",
    "\n",
    "# calculate precision-recall curve\n",
    "precision, recall, thresholds = precision_recall_curve(y, y_proba_pred)\n",
    "AUPRC = auc(recall, precision)\n",
    "print(\"AUPRC: \", AUPRC)\n",
    "\n",
    "# calculate f1 score\n",
    "f1 = f1_score(y, y_pred)\n",
    "print(\"f1: \", f1)\n",
    "\n",
    "# calculate accuracy score\n",
    "accuracy = accuracy_score(y, y_pred)\n",
    "print(\"accuracy: \", accuracy)\n",
    "\n",
    "# calculate precision score\n",
    "precision = precision_score(y, y_pred)\n",
    "print(\"precision: \", precision)\n",
    "\n",
    "# calculate recall score\n",
    "recall = recall_score(y, y_pred)\n",
    "print(\"recall: \", recall)"
   ]
  },
  {
   "cell_type": "code",
   "execution_count": null,
   "id": "c246914f",
   "metadata": {},
   "outputs": [],
   "source": []
  },
  {
   "cell_type": "code",
   "execution_count": null,
   "id": "3af036ea",
   "metadata": {},
   "outputs": [],
   "source": []
  }
 ],
 "metadata": {
  "kernelspec": {
   "display_name": "Python 3 (ipykernel)",
   "language": "python",
   "name": "python3"
  },
  "language_info": {
   "codemirror_mode": {
    "name": "ipython",
    "version": 3
   },
   "file_extension": ".py",
   "mimetype": "text/x-python",
   "name": "python",
   "nbconvert_exporter": "python",
   "pygments_lexer": "ipython3",
   "version": "3.8.16"
  }
 },
 "nbformat": 4,
 "nbformat_minor": 5
}
