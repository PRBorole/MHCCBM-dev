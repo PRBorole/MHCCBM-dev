{
 "cells": [
  {
   "cell_type": "code",
   "execution_count": 16,
   "id": "1818f14a",
   "metadata": {},
   "outputs": [],
   "source": [
    "import pandas as pd\n",
    "import numpy as np\n",
    "\n",
    "from tmtools.io import get_structure, get_residue_data\n",
    "from tmtools.testing import get_pdb_path"
   ]
  },
  {
   "cell_type": "code",
   "execution_count": 3,
   "id": "3b6510be",
   "metadata": {},
   "outputs": [
    {
     "name": "stdout",
     "output_type": "stream",
     "text": [
      "Number of alpha chain contacts & tapasin with hdock:  81\n",
      "Number of alpha chain contacts & tapasin with GRAMM:  86\n",
      "Number of alpha chain contacts & tapasin original:  70\n"
     ]
    }
   ],
   "source": [
    "# check how many contacts are identified\n",
    "hdock_df = pd.read_csv('./../../data/TD/PDB/B4405_tapasin_docked_HDOCK.csv', sep='\\t').drop_duplicates()\n",
    "hdock_df['AD'] = [i+j for i,j in zip(hdock_df['A'],hdock_df['D'])]\n",
    "\n",
    "gramm_df = pd.read_csv('./../../data/TD/PDB/B4405_tapasin_GRAMM.csv', sep='\\t').drop_duplicates()\n",
    "gramm_df['AD'] = [i+j for i,j in zip(gramm_df['A'],gramm_df['D'])]\n",
    "\n",
    "pdb_df = pd.read_csv('./../../data/TD/PDB/B4405_tapasin_7tue.csv', sep='\\t').drop_duplicates()\n",
    "pdb_df['AD'] = [i+j for i,j in zip(pdb_df['A'],pdb_df['D'])]\n",
    "\n",
    "print(\"Number of alpha chain contacts & tapasin with hdock: \", len(hdock_df))\n",
    "print(\"Number of alpha chain contacts & tapasin with GRAMM: \", len(gramm_df))\n",
    "print(\"Number of alpha chain contacts & tapasin original: \", len(pdb_df))"
   ]
  },
  {
   "cell_type": "code",
   "execution_count": 4,
   "id": "7cef3e80",
   "metadata": {},
   "outputs": [
    {
     "data": {
      "text/plain": [
       "(69, 44)"
      ]
     },
     "execution_count": 4,
     "metadata": {},
     "output_type": "execute_result"
    }
   ],
   "source": [
    "len(pdb_df.merge(hdock_df,on='AD')), len(pdb_df.merge(gramm_df,on='AD'))"
   ]
  },
  {
   "cell_type": "code",
   "execution_count": 5,
   "id": "16d91ccc",
   "metadata": {},
   "outputs": [
    {
     "data": {
      "text/html": [
       "<div>\n",
       "<style scoped>\n",
       "    .dataframe tbody tr th:only-of-type {\n",
       "        vertical-align: middle;\n",
       "    }\n",
       "\n",
       "    .dataframe tbody tr th {\n",
       "        vertical-align: top;\n",
       "    }\n",
       "\n",
       "    .dataframe thead th {\n",
       "        text-align: right;\n",
       "    }\n",
       "</style>\n",
       "<table border=\"1\" class=\"dataframe\">\n",
       "  <thead>\n",
       "    <tr style=\"text-align: right;\">\n",
       "      <th></th>\n",
       "      <th>Unnamed: 0</th>\n",
       "      <th>HLA_full</th>\n",
       "      <th>HLA</th>\n",
       "      <th>MFI_ratio</th>\n",
       "      <th>SD</th>\n",
       "      <th>Source</th>\n",
       "    </tr>\n",
       "  </thead>\n",
       "  <tbody>\n",
       "    <tr>\n",
       "      <th>55</th>\n",
       "      <td>55</td>\n",
       "      <td>HLA-B*44:05</td>\n",
       "      <td>B*44:05</td>\n",
       "      <td>1.82</td>\n",
       "      <td>0.33</td>\n",
       "      <td>Bashirova</td>\n",
       "    </tr>\n",
       "  </tbody>\n",
       "</table>\n",
       "</div>"
      ],
      "text/plain": [
       "    Unnamed: 0     HLA_full      HLA  MFI_ratio    SD     Source\n",
       "55          55  HLA-B*44:05  B*44:05       1.82  0.33  Bashirova"
      ]
     },
     "execution_count": 5,
     "metadata": {},
     "output_type": "execute_result"
    }
   ],
   "source": [
    "mfi_df = pd.read_csv('./../../data/TD/TD_MFI_ratio.csv')\n",
    "mfi_df = mfi_df[mfi_df['Source']=='Bashirova']\n",
    "mfi_df[mfi_df['HLA_full']=='HLA-B*44:05']"
   ]
  },
  {
   "cell_type": "code",
   "execution_count": null,
   "id": "7b074460",
   "metadata": {},
   "outputs": [],
   "source": [
    "# check 10 models and seeif delta G from HDOCK works well as MFI"
   ]
  },
  {
   "cell_type": "code",
   "execution_count": 27,
   "id": "1a413614",
   "metadata": {},
   "outputs": [],
   "source": [
    "# TM score and RMSE\n",
    "s1 = get_structure('./../../data/TD/PDB/processed_pdb/A_02_01_V1_AB.pdb')\n",
    "chain = next(s1.get_chains())\n",
    "coords1, seq1 = get_residue_data(chain)\n",
    "\n",
    "s2 = get_structure(\"./../../data/TD/PDB/processed_pdb/B_44_05_AB.pdb\")\n",
    "chain = next(s2.get_chains())\n",
    "coords2, seq2 = get_residue_data(chain)"
   ]
  },
  {
   "cell_type": "code",
   "execution_count": 28,
   "id": "c6fc0ce9",
   "metadata": {},
   "outputs": [
    {
     "data": {
      "text/plain": [
       "(array([-26.11945616,  22.85269037, -11.11245735]),\n",
       " array([[-0.69811382, -0.01421166, -0.71584574],\n",
       "        [ 0.16835127,  0.96851381, -0.18340898],\n",
       "        [ 0.69591303, -0.24855389, -0.67374033]]),\n",
       " 4.588331952059419)"
      ]
     },
     "execution_count": 28,
     "metadata": {},
     "output_type": "execute_result"
    }
   ],
   "source": [
    "res = tm_align(coords1, coords2, seq1, seq2)\n",
    "res.t, res.u, res.rmsd"
   ]
  },
  {
   "cell_type": "code",
   "execution_count": 30,
   "id": "da38dc53",
   "metadata": {},
   "outputs": [
    {
     "data": {
      "text/plain": [
       "(0.6889304065196775, 0.6933240068490244)"
      ]
     },
     "execution_count": 30,
     "metadata": {},
     "output_type": "execute_result"
    }
   ],
   "source": [
    "res.tm_norm_chain1, res.tm_norm_chain2"
   ]
  },
  {
   "cell_type": "code",
   "execution_count": null,
   "id": "8a8e01c4",
   "metadata": {},
   "outputs": [],
   "source": []
  },
  {
   "cell_type": "code",
   "execution_count": null,
   "id": "9a2706b2",
   "metadata": {},
   "outputs": [],
   "source": []
  }
 ],
 "metadata": {
  "kernelspec": {
   "display_name": "Python 3 (ipykernel)",
   "language": "python",
   "name": "python3"
  },
  "language_info": {
   "codemirror_mode": {
    "name": "ipython",
    "version": 3
   },
   "file_extension": ".py",
   "mimetype": "text/x-python",
   "name": "python",
   "nbconvert_exporter": "python",
   "pygments_lexer": "ipython3",
   "version": "3.8.16"
  }
 },
 "nbformat": 4,
 "nbformat_minor": 5
}
