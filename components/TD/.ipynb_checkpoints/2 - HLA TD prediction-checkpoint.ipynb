{
 "cells": [
  {
   "cell_type": "code",
   "execution_count": 1,
   "id": "567f5824",
   "metadata": {},
   "outputs": [],
   "source": [
    "# load packages\n",
    "import numpy as np\n",
    "import pandas as pd\n",
    "import seaborn as sns\n",
    "import matplotlib.pyplot as plt\n",
    "\n",
    "from sklearn.ensemble import RandomForestRegressor\n",
    "from sklearn.model_selection import train_test_split\n",
    "from sklearn.metrics import mean_squared_error\n",
    "\n",
    "import torch\n",
    "import esm\n",
    "from tqdm import tqdm\n",
    "import pickle\n",
    "\n",
    "import sys\n",
    "sys.path.append('/exports/csce/eddie/inf/groups/ajitha_project/piyush/MHCCBM/MHCCBM')\n",
    "\n",
    "from src.utils import *"
   ]
  },
  {
   "cell_type": "code",
   "execution_count": 2,
   "id": "a675609b",
   "metadata": {},
   "outputs": [
    {
     "data": {
      "text/html": [
       "<div>\n",
       "<style scoped>\n",
       "    .dataframe tbody tr th:only-of-type {\n",
       "        vertical-align: middle;\n",
       "    }\n",
       "\n",
       "    .dataframe tbody tr th {\n",
       "        vertical-align: top;\n",
       "    }\n",
       "\n",
       "    .dataframe thead th {\n",
       "        text-align: right;\n",
       "    }\n",
       "</style>\n",
       "<table border=\"1\" class=\"dataframe\">\n",
       "  <thead>\n",
       "    <tr style=\"text-align: right;\">\n",
       "      <th></th>\n",
       "      <th>HLA_full</th>\n",
       "      <th>HLA</th>\n",
       "      <th>MFI_ratio</th>\n",
       "      <th>SD</th>\n",
       "      <th>Source</th>\n",
       "      <th>ID</th>\n",
       "      <th>Sequence</th>\n",
       "      <th>length</th>\n",
       "    </tr>\n",
       "  </thead>\n",
       "  <tbody>\n",
       "    <tr>\n",
       "      <th>0</th>\n",
       "      <td>HLA-A*01:01</td>\n",
       "      <td>A*01:01</td>\n",
       "      <td>32.11</td>\n",
       "      <td>13.77</td>\n",
       "      <td>Bashirova</td>\n",
       "      <td>HLA:HLA00001</td>\n",
       "      <td>MAVMAPRTLLLLLSGALALTQTWAGSHSMRYFFTSVSRPGRGEPRF...</td>\n",
       "      <td>365</td>\n",
       "    </tr>\n",
       "    <tr>\n",
       "      <th>1</th>\n",
       "      <td>HLA-A*01:02</td>\n",
       "      <td>A*01:02</td>\n",
       "      <td>109.86</td>\n",
       "      <td>35.04</td>\n",
       "      <td>Bashirova</td>\n",
       "      <td>HLA:HLA00002</td>\n",
       "      <td>MAVMAPRTLLLLLSGALALTQTWAGSHSMRYFSTSVSRPGSGEPRF...</td>\n",
       "      <td>365</td>\n",
       "    </tr>\n",
       "    <tr>\n",
       "      <th>2</th>\n",
       "      <td>HLA-A*02:01</td>\n",
       "      <td>A*02:01</td>\n",
       "      <td>2.02</td>\n",
       "      <td>0.22</td>\n",
       "      <td>Bashirova</td>\n",
       "      <td>HLA:HLA00005</td>\n",
       "      <td>MAVMAPRTLVLLLSGALALTQTWAGSHSMRYFFTSVSRPGRGEPRF...</td>\n",
       "      <td>365</td>\n",
       "    </tr>\n",
       "    <tr>\n",
       "      <th>3</th>\n",
       "      <td>HLA-A*02:02</td>\n",
       "      <td>A*02:02</td>\n",
       "      <td>1.45</td>\n",
       "      <td>0.16</td>\n",
       "      <td>Bashirova</td>\n",
       "      <td>HLA:HLA00007</td>\n",
       "      <td>MAVMAPRTLVLLLSGALALTQTWAGSHSMRYFFTSVSRPGRGEPRF...</td>\n",
       "      <td>365</td>\n",
       "    </tr>\n",
       "    <tr>\n",
       "      <th>4</th>\n",
       "      <td>HLA-A*02:05</td>\n",
       "      <td>A*02:05</td>\n",
       "      <td>1.49</td>\n",
       "      <td>0.12</td>\n",
       "      <td>Bashirova</td>\n",
       "      <td>HLA:HLA00010</td>\n",
       "      <td>MAVMAPRTLVLLLSGALALTQTWAGSHSMRYFYTSVSRPGRGEPRF...</td>\n",
       "      <td>365</td>\n",
       "    </tr>\n",
       "    <tr>\n",
       "      <th>...</th>\n",
       "      <td>...</td>\n",
       "      <td>...</td>\n",
       "      <td>...</td>\n",
       "      <td>...</td>\n",
       "      <td>...</td>\n",
       "      <td>...</td>\n",
       "      <td>...</td>\n",
       "      <td>...</td>\n",
       "    </tr>\n",
       "    <tr>\n",
       "      <th>92</th>\n",
       "      <td>HLA-C*16:01</td>\n",
       "      <td>C*16:01</td>\n",
       "      <td>5.98</td>\n",
       "      <td>1.33</td>\n",
       "      <td>Bashirova</td>\n",
       "      <td>HLA:HLA00475</td>\n",
       "      <td>MRVMAPRTLILLLSGALALTETWACSHSMRYFYTAVSRPGRGEPRF...</td>\n",
       "      <td>366</td>\n",
       "    </tr>\n",
       "    <tr>\n",
       "      <th>93</th>\n",
       "      <td>HLA-C*17:01</td>\n",
       "      <td>C*17:01</td>\n",
       "      <td>2.92</td>\n",
       "      <td>0.98</td>\n",
       "      <td>Bashirova</td>\n",
       "      <td>HLA:HLA04311</td>\n",
       "      <td>MRVMAPQALLLLLSGALALIETWAGSHSMRYFYTAVSRPGRGEPRF...</td>\n",
       "      <td>372</td>\n",
       "    </tr>\n",
       "    <tr>\n",
       "      <th>94</th>\n",
       "      <td>HLA-C*17:03</td>\n",
       "      <td>C*17:03</td>\n",
       "      <td>3.63</td>\n",
       "      <td>1.29</td>\n",
       "      <td>Bashirova</td>\n",
       "      <td>HLA:HLA00993</td>\n",
       "      <td>MRVMAPQALLLLLSGALALIETWTGSHSMRYFYTAVSRPGRGEPRF...</td>\n",
       "      <td>372</td>\n",
       "    </tr>\n",
       "    <tr>\n",
       "      <th>95</th>\n",
       "      <td>HLA-C*18:01</td>\n",
       "      <td>C*18:01</td>\n",
       "      <td>2.76</td>\n",
       "      <td>0.80</td>\n",
       "      <td>Bashirova</td>\n",
       "      <td>HLA:HLA00483</td>\n",
       "      <td>MRVMAPRALLLLLSGGLALTETWACSHSMRYFDTAVSRPGRGEPRF...</td>\n",
       "      <td>366</td>\n",
       "    </tr>\n",
       "    <tr>\n",
       "      <th>96</th>\n",
       "      <td>HLA-C*18:02</td>\n",
       "      <td>C*18:02</td>\n",
       "      <td>2.28</td>\n",
       "      <td>0.66</td>\n",
       "      <td>Bashirova</td>\n",
       "      <td>HLA:HLA00484</td>\n",
       "      <td>MRVMAPRALLLLLSGGLALTETWACSHSMRYFDTAVSRPGRGEPRF...</td>\n",
       "      <td>366</td>\n",
       "    </tr>\n",
       "  </tbody>\n",
       "</table>\n",
       "<p>97 rows × 8 columns</p>\n",
       "</div>"
      ],
      "text/plain": [
       "       HLA_full      HLA  MFI_ratio     SD     Source            ID  \\\n",
       "0   HLA-A*01:01  A*01:01      32.11  13.77  Bashirova  HLA:HLA00001   \n",
       "1   HLA-A*01:02  A*01:02     109.86  35.04  Bashirova  HLA:HLA00002   \n",
       "2   HLA-A*02:01  A*02:01       2.02   0.22  Bashirova  HLA:HLA00005   \n",
       "3   HLA-A*02:02  A*02:02       1.45   0.16  Bashirova  HLA:HLA00007   \n",
       "4   HLA-A*02:05  A*02:05       1.49   0.12  Bashirova  HLA:HLA00010   \n",
       "..          ...      ...        ...    ...        ...           ...   \n",
       "92  HLA-C*16:01  C*16:01       5.98   1.33  Bashirova  HLA:HLA00475   \n",
       "93  HLA-C*17:01  C*17:01       2.92   0.98  Bashirova  HLA:HLA04311   \n",
       "94  HLA-C*17:03  C*17:03       3.63   1.29  Bashirova  HLA:HLA00993   \n",
       "95  HLA-C*18:01  C*18:01       2.76   0.80  Bashirova  HLA:HLA00483   \n",
       "96  HLA-C*18:02  C*18:02       2.28   0.66  Bashirova  HLA:HLA00484   \n",
       "\n",
       "                                             Sequence  length  \n",
       "0   MAVMAPRTLLLLLSGALALTQTWAGSHSMRYFFTSVSRPGRGEPRF...     365  \n",
       "1   MAVMAPRTLLLLLSGALALTQTWAGSHSMRYFSTSVSRPGSGEPRF...     365  \n",
       "2   MAVMAPRTLVLLLSGALALTQTWAGSHSMRYFFTSVSRPGRGEPRF...     365  \n",
       "3   MAVMAPRTLVLLLSGALALTQTWAGSHSMRYFFTSVSRPGRGEPRF...     365  \n",
       "4   MAVMAPRTLVLLLSGALALTQTWAGSHSMRYFYTSVSRPGRGEPRF...     365  \n",
       "..                                                ...     ...  \n",
       "92  MRVMAPRTLILLLSGALALTETWACSHSMRYFYTAVSRPGRGEPRF...     366  \n",
       "93  MRVMAPQALLLLLSGALALIETWAGSHSMRYFYTAVSRPGRGEPRF...     372  \n",
       "94  MRVMAPQALLLLLSGALALIETWTGSHSMRYFYTAVSRPGRGEPRF...     372  \n",
       "95  MRVMAPRALLLLLSGGLALTETWACSHSMRYFDTAVSRPGRGEPRF...     366  \n",
       "96  MRVMAPRALLLLLSGGLALTETWACSHSMRYFDTAVSRPGRGEPRF...     366  \n",
       "\n",
       "[97 rows x 8 columns]"
      ]
     },
     "execution_count": 2,
     "metadata": {},
     "output_type": "execute_result"
    }
   ],
   "source": [
    "# load full TD dataframe\n",
    "TD_full_df = pd.read_csv('./Data/processed_data/TD_full.csv',index_col=0)\n",
    "TD_full_df"
   ]
  },
  {
   "cell_type": "markdown",
   "id": "1b1dee68",
   "metadata": {},
   "source": [
    "## MFI ratio threshold options\n",
    "1. Median: Median is 3.61 but A*02:01 which has Tapasin dependency has MFI ratio of 2 (see Barber et al)\n",
    "2. Threshold=2.0 There are only 18 negative classes below MFI ratio 2\n",
    "3. Treat as regression? (SHould be fine)\n",
    "\n",
    "\n",
    "\n",
    "A*02:01 Tapasin dependency:\n",
    "1. Thuring et al. (https://www.nature.com/articles/bjc2015297), \n",
    "2. Barber et al https://onlinelibrary.wiley.com/doi/10.1034/j.1399-0039.2001.580604.x, \n",
    "3. Roder et al https://www.sciencedirect.com/science/article/pii/S0021925819491205?via%3Dihub"
   ]
  },
  {
   "cell_type": "code",
   "execution_count": 64,
   "id": "a6b11d79",
   "metadata": {},
   "outputs": [
    {
     "data": {
      "text/plain": [
       "{'A': 0,\n",
       " 'B': 1,\n",
       " 'C': 2,\n",
       " 'D': 3,\n",
       " 'E': 4,\n",
       " 'F': 5,\n",
       " 'G': 6,\n",
       " 'H': 7,\n",
       " 'I': 8,\n",
       " 'J': 9,\n",
       " 'K': 10,\n",
       " 'L': 11,\n",
       " 'M': 12,\n",
       " 'N': 13,\n",
       " 'O': 14,\n",
       " 'P': 15,\n",
       " 'Q': 16,\n",
       " 'R': 17,\n",
       " 'S': 18,\n",
       " 'T': 19,\n",
       " 'U': 20,\n",
       " 'V': 21,\n",
       " 'W': 22,\n",
       " 'X': 23,\n",
       " 'Y': 24,\n",
       " 'Z': 25,\n",
       " '-': 26}"
      ]
     },
     "execution_count": 64,
     "metadata": {},
     "output_type": "execute_result"
    }
   ],
   "source": [
    "aa_str = 'ABCDEFGHIJKLMNOPQRSTUVWXYZ-'\n",
    "aa_dict = {i:idx for idx,i in enumerate(aa_str)}\n",
    "aa_dict"
   ]
  },
  {
   "cell_type": "code",
   "execution_count": 65,
   "id": "0d20b5cb",
   "metadata": {},
   "outputs": [],
   "source": [
    "# make positions into  columns\n",
    "new_cols = TD_full_df['Sequence'].str.split('',expand=True)\n",
    "\n",
    "# get X \n",
    "X = pd.concat([TD_full_df[['HLA','MFI_ratio']], new_cols], axis=1).fillna('-').replace('','-').drop([0,373,'HLA','MFI_ratio'],axis=1)\n",
    "X = X.apply(lambda col: col.map(aa_dict))\n",
    "\n",
    "# get y\n",
    "y = pd.concat([TD_full_df[['HLA','MFI_ratio']], new_cols], axis=1)['MFI_ratio'].to_numpy()\n"
   ]
  },
  {
   "cell_type": "code",
   "execution_count": 66,
   "id": "c61d1f0a",
   "metadata": {},
   "outputs": [
    {
     "name": "stdout",
     "output_type": "stream",
     "text": [
      "Mean Squared Error: 303.1018472339998\n",
      "Mean Squared Error: 371.78619787600013\n",
      "Mean Squared Error: 361.8501431320002\n",
      "Mean Squared Error: 442.8280688000001\n",
      "Mean Squared Error: 297.60216598600005\n"
     ]
    }
   ],
   "source": [
    "mse_rf_seq = []\n",
    "for i in range(5):\n",
    "    # Split the data into training and testing sets\n",
    "    X_train, X_test, y_train, y_test = train_test_split(X, y, test_size=0.2, random_state=42)\n",
    "\n",
    "    # Initialize and train the Random Forest regressor\n",
    "    RF = RandomForestRegressor(n_estimators=50, max_depth=30, random_state=i)\n",
    "    RF.fit(X_train, y_train)\n",
    "\n",
    "    # Make predictions on the test set\n",
    "    y_pred = RF.predict(X_test)\n",
    "\n",
    "    # Evaluate the model\n",
    "    mse = mean_squared_error(y_test, y_pred)\n",
    "    print(\"Mean Squared Error:\", mse)\n",
    "    \n",
    "    mse_rf_seq = mse_rf_seq + [mse]\n",
    "    \n",
    "    "
   ]
  },
  {
   "cell_type": "code",
   "execution_count": 6,
   "id": "72d1d062",
   "metadata": {},
   "outputs": [
    {
     "data": {
      "image/png": "[encoded data removed]",
      "text/plain": [
       "<Figure size 1000x600 with 1 Axes>"
      ]
     },
     "metadata": {},
     "output_type": "display_data"
    }
   ],
   "source": [
    "# Get feature importances\n",
    "feature_importances = RF.feature_importances_\n",
    "\n",
    "# Create DataFrame with feature names and importance scores\n",
    "feature_names = [f'Position {i+1}' for i in range(len(feature_importances))]\n",
    "feature_importance_df = pd.DataFrame({'Feature': feature_names, 'Importance': feature_importances})\n",
    "\n",
    "# Sort DataFrame by importance\n",
    "feature_importance_df = feature_importance_df.sort_values(by='Importance', ascending=False)\n",
    "\n",
    "# Plot feature importance using Seaborn\n",
    "plt.figure(figsize=(10, 6))\n",
    "sns.barplot(x='Importance', y='Feature', data=feature_importance_df.iloc[:25], palette='viridis')\n",
    "plt.xlabel('Importance Score')\n",
    "plt.ylabel('HLA Position')\n",
    "plt.title('Feature Importance')\n",
    "plt.show()\n"
   ]
  },
  {
   "cell_type": "markdown",
   "id": "79fea1c9",
   "metadata": {},
   "source": [
    "# With ESM1b\n",
    "\n",
    "From https://github.com/facebookresearch/esm"
   ]
  },
  {
   "cell_type": "code",
   "execution_count": 3,
   "id": "f0f8a30f",
   "metadata": {},
   "outputs": [
    {
     "data": {
      "text/html": [
       "<div>\n",
       "<style scoped>\n",
       "    .dataframe tbody tr th:only-of-type {\n",
       "        vertical-align: middle;\n",
       "    }\n",
       "\n",
       "    .dataframe tbody tr th {\n",
       "        vertical-align: top;\n",
       "    }\n",
       "\n",
       "    .dataframe thead th {\n",
       "        text-align: right;\n",
       "    }\n",
       "</style>\n",
       "<table border=\"1\" class=\"dataframe\">\n",
       "  <thead>\n",
       "    <tr style=\"text-align: right;\">\n",
       "      <th></th>\n",
       "      <th>HLA_full</th>\n",
       "      <th>HLA</th>\n",
       "      <th>MFI_ratio</th>\n",
       "      <th>SD</th>\n",
       "      <th>Source</th>\n",
       "      <th>ID</th>\n",
       "      <th>Sequence</th>\n",
       "      <th>length</th>\n",
       "    </tr>\n",
       "  </thead>\n",
       "  <tbody>\n",
       "    <tr>\n",
       "      <th>0</th>\n",
       "      <td>HLA-A*01:01</td>\n",
       "      <td>A*01:01</td>\n",
       "      <td>32.11</td>\n",
       "      <td>13.77</td>\n",
       "      <td>Bashirova</td>\n",
       "      <td>HLA:HLA00001</td>\n",
       "      <td>MAVMAPRTLLLLLSGALALTQTWAGSHSMRYFFTSVSRPGRGEPRF...</td>\n",
       "      <td>365</td>\n",
       "    </tr>\n",
       "    <tr>\n",
       "      <th>1</th>\n",
       "      <td>HLA-A*01:02</td>\n",
       "      <td>A*01:02</td>\n",
       "      <td>109.86</td>\n",
       "      <td>35.04</td>\n",
       "      <td>Bashirova</td>\n",
       "      <td>HLA:HLA00002</td>\n",
       "      <td>MAVMAPRTLLLLLSGALALTQTWAGSHSMRYFSTSVSRPGSGEPRF...</td>\n",
       "      <td>365</td>\n",
       "    </tr>\n",
       "    <tr>\n",
       "      <th>2</th>\n",
       "      <td>HLA-A*02:01</td>\n",
       "      <td>A*02:01</td>\n",
       "      <td>2.02</td>\n",
       "      <td>0.22</td>\n",
       "      <td>Bashirova</td>\n",
       "      <td>HLA:HLA00005</td>\n",
       "      <td>MAVMAPRTLVLLLSGALALTQTWAGSHSMRYFFTSVSRPGRGEPRF...</td>\n",
       "      <td>365</td>\n",
       "    </tr>\n",
       "    <tr>\n",
       "      <th>3</th>\n",
       "      <td>HLA-A*02:02</td>\n",
       "      <td>A*02:02</td>\n",
       "      <td>1.45</td>\n",
       "      <td>0.16</td>\n",
       "      <td>Bashirova</td>\n",
       "      <td>HLA:HLA00007</td>\n",
       "      <td>MAVMAPRTLVLLLSGALALTQTWAGSHSMRYFFTSVSRPGRGEPRF...</td>\n",
       "      <td>365</td>\n",
       "    </tr>\n",
       "    <tr>\n",
       "      <th>4</th>\n",
       "      <td>HLA-A*02:05</td>\n",
       "      <td>A*02:05</td>\n",
       "      <td>1.49</td>\n",
       "      <td>0.12</td>\n",
       "      <td>Bashirova</td>\n",
       "      <td>HLA:HLA00010</td>\n",
       "      <td>MAVMAPRTLVLLLSGALALTQTWAGSHSMRYFYTSVSRPGRGEPRF...</td>\n",
       "      <td>365</td>\n",
       "    </tr>\n",
       "    <tr>\n",
       "      <th>...</th>\n",
       "      <td>...</td>\n",
       "      <td>...</td>\n",
       "      <td>...</td>\n",
       "      <td>...</td>\n",
       "      <td>...</td>\n",
       "      <td>...</td>\n",
       "      <td>...</td>\n",
       "      <td>...</td>\n",
       "    </tr>\n",
       "    <tr>\n",
       "      <th>92</th>\n",
       "      <td>HLA-C*16:01</td>\n",
       "      <td>C*16:01</td>\n",
       "      <td>5.98</td>\n",
       "      <td>1.33</td>\n",
       "      <td>Bashirova</td>\n",
       "      <td>HLA:HLA00475</td>\n",
       "      <td>MRVMAPRTLILLLSGALALTETWACSHSMRYFYTAVSRPGRGEPRF...</td>\n",
       "      <td>366</td>\n",
       "    </tr>\n",
       "    <tr>\n",
       "      <th>93</th>\n",
       "      <td>HLA-C*17:01</td>\n",
       "      <td>C*17:01</td>\n",
       "      <td>2.92</td>\n",
       "      <td>0.98</td>\n",
       "      <td>Bashirova</td>\n",
       "      <td>HLA:HLA04311</td>\n",
       "      <td>MRVMAPQALLLLLSGALALIETWAGSHSMRYFYTAVSRPGRGEPRF...</td>\n",
       "      <td>372</td>\n",
       "    </tr>\n",
       "    <tr>\n",
       "      <th>94</th>\n",
       "      <td>HLA-C*17:03</td>\n",
       "      <td>C*17:03</td>\n",
       "      <td>3.63</td>\n",
       "      <td>1.29</td>\n",
       "      <td>Bashirova</td>\n",
       "      <td>HLA:HLA00993</td>\n",
       "      <td>MRVMAPQALLLLLSGALALIETWTGSHSMRYFYTAVSRPGRGEPRF...</td>\n",
       "      <td>372</td>\n",
       "    </tr>\n",
       "    <tr>\n",
       "      <th>95</th>\n",
       "      <td>HLA-C*18:01</td>\n",
       "      <td>C*18:01</td>\n",
       "      <td>2.76</td>\n",
       "      <td>0.80</td>\n",
       "      <td>Bashirova</td>\n",
       "      <td>HLA:HLA00483</td>\n",
       "      <td>MRVMAPRALLLLLSGGLALTETWACSHSMRYFDTAVSRPGRGEPRF...</td>\n",
       "      <td>366</td>\n",
       "    </tr>\n",
       "    <tr>\n",
       "      <th>96</th>\n",
       "      <td>HLA-C*18:02</td>\n",
       "      <td>C*18:02</td>\n",
       "      <td>2.28</td>\n",
       "      <td>0.66</td>\n",
       "      <td>Bashirova</td>\n",
       "      <td>HLA:HLA00484</td>\n",
       "      <td>MRVMAPRALLLLLSGGLALTETWACSHSMRYFDTAVSRPGRGEPRF...</td>\n",
       "      <td>366</td>\n",
       "    </tr>\n",
       "  </tbody>\n",
       "</table>\n",
       "<p>97 rows × 8 columns</p>\n",
       "</div>"
      ],
      "text/plain": [
       "       HLA_full      HLA  MFI_ratio     SD     Source            ID  \\\n",
       "0   HLA-A*01:01  A*01:01      32.11  13.77  Bashirova  HLA:HLA00001   \n",
       "1   HLA-A*01:02  A*01:02     109.86  35.04  Bashirova  HLA:HLA00002   \n",
       "2   HLA-A*02:01  A*02:01       2.02   0.22  Bashirova  HLA:HLA00005   \n",
       "3   HLA-A*02:02  A*02:02       1.45   0.16  Bashirova  HLA:HLA00007   \n",
       "4   HLA-A*02:05  A*02:05       1.49   0.12  Bashirova  HLA:HLA00010   \n",
       "..          ...      ...        ...    ...        ...           ...   \n",
       "92  HLA-C*16:01  C*16:01       5.98   1.33  Bashirova  HLA:HLA00475   \n",
       "93  HLA-C*17:01  C*17:01       2.92   0.98  Bashirova  HLA:HLA04311   \n",
       "94  HLA-C*17:03  C*17:03       3.63   1.29  Bashirova  HLA:HLA00993   \n",
       "95  HLA-C*18:01  C*18:01       2.76   0.80  Bashirova  HLA:HLA00483   \n",
       "96  HLA-C*18:02  C*18:02       2.28   0.66  Bashirova  HLA:HLA00484   \n",
       "\n",
       "                                             Sequence  length  \n",
       "0   MAVMAPRTLLLLLSGALALTQTWAGSHSMRYFFTSVSRPGRGEPRF...     365  \n",
       "1   MAVMAPRTLLLLLSGALALTQTWAGSHSMRYFSTSVSRPGSGEPRF...     365  \n",
       "2   MAVMAPRTLVLLLSGALALTQTWAGSHSMRYFFTSVSRPGRGEPRF...     365  \n",
       "3   MAVMAPRTLVLLLSGALALTQTWAGSHSMRYFFTSVSRPGRGEPRF...     365  \n",
       "4   MAVMAPRTLVLLLSGALALTQTWAGSHSMRYFYTSVSRPGRGEPRF...     365  \n",
       "..                                                ...     ...  \n",
       "92  MRVMAPRTLILLLSGALALTETWACSHSMRYFYTAVSRPGRGEPRF...     366  \n",
       "93  MRVMAPQALLLLLSGALALIETWAGSHSMRYFYTAVSRPGRGEPRF...     372  \n",
       "94  MRVMAPQALLLLLSGALALIETWTGSHSMRYFYTAVSRPGRGEPRF...     372  \n",
       "95  MRVMAPRALLLLLSGGLALTETWACSHSMRYFDTAVSRPGRGEPRF...     366  \n",
       "96  MRVMAPRALLLLLSGGLALTETWACSHSMRYFDTAVSRPGRGEPRF...     366  \n",
       "\n",
       "[97 rows x 8 columns]"
      ]
     },
     "execution_count": 3,
     "metadata": {},
     "output_type": "execute_result"
    }
   ],
   "source": [
    "TD_full_df"
   ]
  },
  {
   "cell_type": "code",
   "execution_count": 4,
   "id": "b0cbc911",
   "metadata": {},
   "outputs": [],
   "source": [
    "# Load ESM-2 model\n",
    "model, alphabet = esm.pretrained.esm2_t33_650M_UR50D()\n",
    "batch_converter = alphabet.get_batch_converter()\n",
    "model.eval()  # disables dropout for deterministic results\n",
    "\n",
    "# Prepare data \n",
    "data = [(v['HLA_full'], v['Sequence']) for k,v in TD_full_df[['HLA_full','Sequence']].T.to_dict().items()]\n",
    "batch_labels, batch_strs, batch_tokens = batch_converter(data)\n",
    "# batch_lens = (batch_tokens != alphabet.padding_idx).sum(1)"
   ]
  },
  {
   "cell_type": "code",
   "execution_count": 5,
   "id": "b85bd3a5",
   "metadata": {},
   "outputs": [
    {
     "data": {
      "text/plain": [
       "torch.Size([97, 374])"
      ]
     },
     "execution_count": 5,
     "metadata": {},
     "output_type": "execute_result"
    }
   ],
   "source": [
    "batch_tokens.shape"
   ]
  },
  {
   "cell_type": "code",
   "execution_count": 14,
   "id": "19a66f70",
   "metadata": {},
   "outputs": [
    {
     "data": {
      "text/plain": [
       "torch.Size([10, 374])"
      ]
     },
     "execution_count": 14,
     "metadata": {},
     "output_type": "execute_result"
    }
   ],
   "source": [
    "batch_tokens[:10].shape"
   ]
  },
  {
   "cell_type": "code",
   "execution_count": 17,
   "id": "9b57257c",
   "metadata": {},
   "outputs": [],
   "source": [
    "def get_esm_embedding(model, batch_tokens):\n",
    "    '''\n",
    "    Computes the ESM1b embedding for a given protein sequence and returns the mean embedding across positions as a single vector.\n",
    "\n",
    "    Args:\n",
    "        model (esm model): ESM1B model\n",
    "        batch_tokens (tensor): sequences tensor\n",
    "\n",
    "    Returns:\n",
    "        torch.Tensor: A tensor representing the mean embedding across all positions in the protein sequence.\n",
    "    '''\n",
    "    model.eval()  # disables dropout for deterministic results\n",
    "    \n",
    "    with torch.no_grad():\n",
    "        results = model(batch_tokens, repr_layers=[33], return_contacts=True)\n",
    "    token_representations = results[\"representations\"][33]\n",
    "    \n",
    "    # Generate per-sequence representations via averaging\n",
    "    # NOTE: token 0 is always a beginning-of-sequence token, so the first residue is token 1.\n",
    "    return token_representations[:,1:,:].mean(1)"
   ]
  },
  {
   "cell_type": "code",
   "execution_count": 23,
   "id": "b740c714",
   "metadata": {},
   "outputs": [
    {
     "data": {
      "text/plain": [
       "torch.Size([2, 1280])"
      ]
     },
     "execution_count": 23,
     "metadata": {},
     "output_type": "execute_result"
    }
   ],
   "source": [
    "# Get ESM1B representation\n",
    "# token_representations = get_esm_embedding(model, batch_tokens[:2])\n",
    "token_representations.shape"
   ]
  },
  {
   "cell_type": "code",
   "execution_count": 10,
   "id": "af250072",
   "metadata": {},
   "outputs": [
    {
     "name": "stderr",
     "output_type": "stream",
     "text": [
      "1it [00:05,  5.44s/it]"
     ]
    },
    {
     "name": "stdout",
     "output_type": "stream",
     "text": [
      "tensor([-0.0175, -0.0271, -0.0232,  ..., -0.0573,  0.0399,  0.0690])\n"
     ]
    },
    {
     "name": "stderr",
     "output_type": "stream",
     "text": [
      "\r",
      "2it [00:10,  5.39s/it]"
     ]
    },
    {
     "name": "stdout",
     "output_type": "stream",
     "text": [
      "tensor([-0.0160, -0.0262, -0.0255,  ..., -0.0604,  0.0391,  0.0684])\n"
     ]
    },
    {
     "name": "stderr",
     "output_type": "stream",
     "text": [
      "\r",
      "3it [00:16,  5.40s/it]"
     ]
    },
    {
     "name": "stdout",
     "output_type": "stream",
     "text": [
      "tensor([-0.0015, -0.0315, -0.0234,  ..., -0.0593,  0.0391,  0.0708])\n"
     ]
    },
    {
     "name": "stderr",
     "output_type": "stream",
     "text": [
      "\r",
      "4it [00:21,  5.35s/it]"
     ]
    },
    {
     "name": "stdout",
     "output_type": "stream",
     "text": [
      "tensor([-0.0020, -0.0314, -0.0237,  ..., -0.0596,  0.0417,  0.0697])\n"
     ]
    },
    {
     "name": "stderr",
     "output_type": "stream",
     "text": [
      "\r",
      "5it [00:26,  5.34s/it]"
     ]
    },
    {
     "name": "stdout",
     "output_type": "stream",
     "text": [
      "tensor([-0.0019, -0.0324, -0.0254,  ..., -0.0594,  0.0426,  0.0690])\n"
     ]
    },
    {
     "name": "stderr",
     "output_type": "stream",
     "text": [
      "5it [00:30,  6.13s/it]\n"
     ]
    },
    {
     "ename": "KeyboardInterrupt",
     "evalue": "",
     "output_type": "error",
     "traceback": [
      "\u001b[0;31m---------------------------------------------------------------------------\u001b[0m",
      "\u001b[0;31mKeyboardInterrupt\u001b[0m                         Traceback (most recent call last)",
      "Cell \u001b[0;32mIn[10], line 2\u001b[0m\n\u001b[1;32m      1\u001b[0m \u001b[38;5;28;01mfor\u001b[39;00m idx, batch_token \u001b[38;5;129;01min\u001b[39;00m tqdm(\u001b[38;5;28menumerate\u001b[39m(batch_tokens)):\n\u001b[0;32m----> 2\u001b[0m     \u001b[38;5;28mprint\u001b[39m(\u001b[43mget_esm_embedding\u001b[49m\u001b[43m(\u001b[49m\u001b[43mmodel\u001b[49m\u001b[43m,\u001b[49m\u001b[43m \u001b[49m\u001b[43mbatch_tokens\u001b[49m\u001b[43m[\u001b[49m\u001b[43midx\u001b[49m\u001b[43m:\u001b[49m\u001b[43midx\u001b[49m\u001b[38;5;241;43m+\u001b[39;49m\u001b[38;5;241;43m1\u001b[39;49m\u001b[43m]\u001b[49m\u001b[43m)\u001b[49m)\n",
      "File \u001b[0;32m/exports/csce/eddie/inf/groups/ajitha_project/piyush/MHCCBM/MHCCBM/src/utils.py:46\u001b[0m, in \u001b[0;36mget_esm_embedding\u001b[0;34m(model, batch_tokens)\u001b[0m\n\u001b[1;32m     43\u001b[0m model\u001b[38;5;241m.\u001b[39meval()  \u001b[38;5;66;03m# disables dropout for deterministic results\u001b[39;00m\n\u001b[1;32m     45\u001b[0m \u001b[38;5;28;01mwith\u001b[39;00m torch\u001b[38;5;241m.\u001b[39mno_grad():\n\u001b[0;32m---> 46\u001b[0m     results \u001b[38;5;241m=\u001b[39m \u001b[43mmodel\u001b[49m\u001b[43m(\u001b[49m\u001b[43mbatch_tokens\u001b[49m\u001b[43m,\u001b[49m\u001b[43m \u001b[49m\u001b[43mrepr_layers\u001b[49m\u001b[38;5;241;43m=\u001b[39;49m\u001b[43m[\u001b[49m\u001b[38;5;241;43m33\u001b[39;49m\u001b[43m]\u001b[49m\u001b[43m,\u001b[49m\u001b[43m \u001b[49m\u001b[43mreturn_contacts\u001b[49m\u001b[38;5;241;43m=\u001b[39;49m\u001b[38;5;28;43;01mTrue\u001b[39;49;00m\u001b[43m)\u001b[49m\n\u001b[1;32m     47\u001b[0m token_representations \u001b[38;5;241m=\u001b[39m results[\u001b[38;5;124m\"\u001b[39m\u001b[38;5;124mrepresentations\u001b[39m\u001b[38;5;124m\"\u001b[39m][\u001b[38;5;241m33\u001b[39m]\n\u001b[1;32m     49\u001b[0m \u001b[38;5;66;03m# Generate per-sequence representations via averaging\u001b[39;00m\n\u001b[1;32m     50\u001b[0m \u001b[38;5;66;03m# NOTE: token 0 is always a beginning-of-sequence token, so the first residue is token 1.\u001b[39;00m\n",
      "File \u001b[0;32m/exports/csce/eddie/inf/groups/ajitha_project/piyush/.conda/envs/MHCex38/lib/python3.8/site-packages/torch/nn/modules/module.py:1532\u001b[0m, in \u001b[0;36mModule._wrapped_call_impl\u001b[0;34m(self, *args, **kwargs)\u001b[0m\n\u001b[1;32m   1530\u001b[0m     \u001b[38;5;28;01mreturn\u001b[39;00m \u001b[38;5;28mself\u001b[39m\u001b[38;5;241m.\u001b[39m_compiled_call_impl(\u001b[38;5;241m*\u001b[39margs, \u001b[38;5;241m*\u001b[39m\u001b[38;5;241m*\u001b[39mkwargs)  \u001b[38;5;66;03m# type: ignore[misc]\u001b[39;00m\n\u001b[1;32m   1531\u001b[0m \u001b[38;5;28;01melse\u001b[39;00m:\n\u001b[0;32m-> 1532\u001b[0m     \u001b[38;5;28;01mreturn\u001b[39;00m \u001b[38;5;28;43mself\u001b[39;49m\u001b[38;5;241;43m.\u001b[39;49m\u001b[43m_call_impl\u001b[49m\u001b[43m(\u001b[49m\u001b[38;5;241;43m*\u001b[39;49m\u001b[43margs\u001b[49m\u001b[43m,\u001b[49m\u001b[43m \u001b[49m\u001b[38;5;241;43m*\u001b[39;49m\u001b[38;5;241;43m*\u001b[39;49m\u001b[43mkwargs\u001b[49m\u001b[43m)\u001b[49m\n",
      "File \u001b[0;32m/exports/csce/eddie/inf/groups/ajitha_project/piyush/.conda/envs/MHCex38/lib/python3.8/site-packages/torch/nn/modules/module.py:1541\u001b[0m, in \u001b[0;36mModule._call_impl\u001b[0;34m(self, *args, **kwargs)\u001b[0m\n\u001b[1;32m   1536\u001b[0m \u001b[38;5;66;03m# If we don't have any hooks, we want to skip the rest of the logic in\u001b[39;00m\n\u001b[1;32m   1537\u001b[0m \u001b[38;5;66;03m# this function, and just call forward.\u001b[39;00m\n\u001b[1;32m   1538\u001b[0m \u001b[38;5;28;01mif\u001b[39;00m \u001b[38;5;129;01mnot\u001b[39;00m (\u001b[38;5;28mself\u001b[39m\u001b[38;5;241m.\u001b[39m_backward_hooks \u001b[38;5;129;01mor\u001b[39;00m \u001b[38;5;28mself\u001b[39m\u001b[38;5;241m.\u001b[39m_backward_pre_hooks \u001b[38;5;129;01mor\u001b[39;00m \u001b[38;5;28mself\u001b[39m\u001b[38;5;241m.\u001b[39m_forward_hooks \u001b[38;5;129;01mor\u001b[39;00m \u001b[38;5;28mself\u001b[39m\u001b[38;5;241m.\u001b[39m_forward_pre_hooks\n\u001b[1;32m   1539\u001b[0m         \u001b[38;5;129;01mor\u001b[39;00m _global_backward_pre_hooks \u001b[38;5;129;01mor\u001b[39;00m _global_backward_hooks\n\u001b[1;32m   1540\u001b[0m         \u001b[38;5;129;01mor\u001b[39;00m _global_forward_hooks \u001b[38;5;129;01mor\u001b[39;00m _global_forward_pre_hooks):\n\u001b[0;32m-> 1541\u001b[0m     \u001b[38;5;28;01mreturn\u001b[39;00m \u001b[43mforward_call\u001b[49m\u001b[43m(\u001b[49m\u001b[38;5;241;43m*\u001b[39;49m\u001b[43margs\u001b[49m\u001b[43m,\u001b[49m\u001b[43m \u001b[49m\u001b[38;5;241;43m*\u001b[39;49m\u001b[38;5;241;43m*\u001b[39;49m\u001b[43mkwargs\u001b[49m\u001b[43m)\u001b[49m\n\u001b[1;32m   1543\u001b[0m \u001b[38;5;28;01mtry\u001b[39;00m:\n\u001b[1;32m   1544\u001b[0m     result \u001b[38;5;241m=\u001b[39m \u001b[38;5;28;01mNone\u001b[39;00m\n",
      "File \u001b[0;32m/exports/csce/eddie/inf/groups/ajitha_project/piyush/.conda/envs/MHCex38/lib/python3.8/site-packages/esm/model/esm2.py:112\u001b[0m, in \u001b[0;36mESM2.forward\u001b[0;34m(self, tokens, repr_layers, need_head_weights, return_contacts)\u001b[0m\n\u001b[1;32m    109\u001b[0m     padding_mask \u001b[38;5;241m=\u001b[39m \u001b[38;5;28;01mNone\u001b[39;00m\n\u001b[1;32m    111\u001b[0m \u001b[38;5;28;01mfor\u001b[39;00m layer_idx, layer \u001b[38;5;129;01min\u001b[39;00m \u001b[38;5;28menumerate\u001b[39m(\u001b[38;5;28mself\u001b[39m\u001b[38;5;241m.\u001b[39mlayers):\n\u001b[0;32m--> 112\u001b[0m     x, attn \u001b[38;5;241m=\u001b[39m \u001b[43mlayer\u001b[49m\u001b[43m(\u001b[49m\n\u001b[1;32m    113\u001b[0m \u001b[43m        \u001b[49m\u001b[43mx\u001b[49m\u001b[43m,\u001b[49m\n\u001b[1;32m    114\u001b[0m \u001b[43m        \u001b[49m\u001b[43mself_attn_padding_mask\u001b[49m\u001b[38;5;241;43m=\u001b[39;49m\u001b[43mpadding_mask\u001b[49m\u001b[43m,\u001b[49m\n\u001b[1;32m    115\u001b[0m \u001b[43m        \u001b[49m\u001b[43mneed_head_weights\u001b[49m\u001b[38;5;241;43m=\u001b[39;49m\u001b[43mneed_head_weights\u001b[49m\u001b[43m,\u001b[49m\n\u001b[1;32m    116\u001b[0m \u001b[43m    \u001b[49m\u001b[43m)\u001b[49m\n\u001b[1;32m    117\u001b[0m     \u001b[38;5;28;01mif\u001b[39;00m (layer_idx \u001b[38;5;241m+\u001b[39m \u001b[38;5;241m1\u001b[39m) \u001b[38;5;129;01min\u001b[39;00m repr_layers:\n\u001b[1;32m    118\u001b[0m         hidden_representations[layer_idx \u001b[38;5;241m+\u001b[39m \u001b[38;5;241m1\u001b[39m] \u001b[38;5;241m=\u001b[39m x\u001b[38;5;241m.\u001b[39mtranspose(\u001b[38;5;241m0\u001b[39m, \u001b[38;5;241m1\u001b[39m)\n",
      "File \u001b[0;32m/exports/csce/eddie/inf/groups/ajitha_project/piyush/.conda/envs/MHCex38/lib/python3.8/site-packages/torch/nn/modules/module.py:1532\u001b[0m, in \u001b[0;36mModule._wrapped_call_impl\u001b[0;34m(self, *args, **kwargs)\u001b[0m\n\u001b[1;32m   1530\u001b[0m     \u001b[38;5;28;01mreturn\u001b[39;00m \u001b[38;5;28mself\u001b[39m\u001b[38;5;241m.\u001b[39m_compiled_call_impl(\u001b[38;5;241m*\u001b[39margs, \u001b[38;5;241m*\u001b[39m\u001b[38;5;241m*\u001b[39mkwargs)  \u001b[38;5;66;03m# type: ignore[misc]\u001b[39;00m\n\u001b[1;32m   1531\u001b[0m \u001b[38;5;28;01melse\u001b[39;00m:\n\u001b[0;32m-> 1532\u001b[0m     \u001b[38;5;28;01mreturn\u001b[39;00m \u001b[38;5;28;43mself\u001b[39;49m\u001b[38;5;241;43m.\u001b[39;49m\u001b[43m_call_impl\u001b[49m\u001b[43m(\u001b[49m\u001b[38;5;241;43m*\u001b[39;49m\u001b[43margs\u001b[49m\u001b[43m,\u001b[49m\u001b[43m \u001b[49m\u001b[38;5;241;43m*\u001b[39;49m\u001b[38;5;241;43m*\u001b[39;49m\u001b[43mkwargs\u001b[49m\u001b[43m)\u001b[49m\n",
      "File \u001b[0;32m/exports/csce/eddie/inf/groups/ajitha_project/piyush/.conda/envs/MHCex38/lib/python3.8/site-packages/torch/nn/modules/module.py:1541\u001b[0m, in \u001b[0;36mModule._call_impl\u001b[0;34m(self, *args, **kwargs)\u001b[0m\n\u001b[1;32m   1536\u001b[0m \u001b[38;5;66;03m# If we don't have any hooks, we want to skip the rest of the logic in\u001b[39;00m\n\u001b[1;32m   1537\u001b[0m \u001b[38;5;66;03m# this function, and just call forward.\u001b[39;00m\n\u001b[1;32m   1538\u001b[0m \u001b[38;5;28;01mif\u001b[39;00m \u001b[38;5;129;01mnot\u001b[39;00m (\u001b[38;5;28mself\u001b[39m\u001b[38;5;241m.\u001b[39m_backward_hooks \u001b[38;5;129;01mor\u001b[39;00m \u001b[38;5;28mself\u001b[39m\u001b[38;5;241m.\u001b[39m_backward_pre_hooks \u001b[38;5;129;01mor\u001b[39;00m \u001b[38;5;28mself\u001b[39m\u001b[38;5;241m.\u001b[39m_forward_hooks \u001b[38;5;129;01mor\u001b[39;00m \u001b[38;5;28mself\u001b[39m\u001b[38;5;241m.\u001b[39m_forward_pre_hooks\n\u001b[1;32m   1539\u001b[0m         \u001b[38;5;129;01mor\u001b[39;00m _global_backward_pre_hooks \u001b[38;5;129;01mor\u001b[39;00m _global_backward_hooks\n\u001b[1;32m   1540\u001b[0m         \u001b[38;5;129;01mor\u001b[39;00m _global_forward_hooks \u001b[38;5;129;01mor\u001b[39;00m _global_forward_pre_hooks):\n\u001b[0;32m-> 1541\u001b[0m     \u001b[38;5;28;01mreturn\u001b[39;00m \u001b[43mforward_call\u001b[49m\u001b[43m(\u001b[49m\u001b[38;5;241;43m*\u001b[39;49m\u001b[43margs\u001b[49m\u001b[43m,\u001b[49m\u001b[43m \u001b[49m\u001b[38;5;241;43m*\u001b[39;49m\u001b[38;5;241;43m*\u001b[39;49m\u001b[43mkwargs\u001b[49m\u001b[43m)\u001b[49m\n\u001b[1;32m   1543\u001b[0m \u001b[38;5;28;01mtry\u001b[39;00m:\n\u001b[1;32m   1544\u001b[0m     result \u001b[38;5;241m=\u001b[39m \u001b[38;5;28;01mNone\u001b[39;00m\n",
      "File \u001b[0;32m/exports/csce/eddie/inf/groups/ajitha_project/piyush/.conda/envs/MHCex38/lib/python3.8/site-packages/esm/modules.py:139\u001b[0m, in \u001b[0;36mTransformerLayer.forward\u001b[0;34m(self, x, self_attn_mask, self_attn_padding_mask, need_head_weights)\u001b[0m\n\u001b[1;32m    137\u001b[0m x \u001b[38;5;241m=\u001b[39m \u001b[38;5;28mself\u001b[39m\u001b[38;5;241m.\u001b[39mfinal_layer_norm(x)\n\u001b[1;32m    138\u001b[0m x \u001b[38;5;241m=\u001b[39m gelu(\u001b[38;5;28mself\u001b[39m\u001b[38;5;241m.\u001b[39mfc1(x))\n\u001b[0;32m--> 139\u001b[0m x \u001b[38;5;241m=\u001b[39m \u001b[38;5;28;43mself\u001b[39;49m\u001b[38;5;241;43m.\u001b[39;49m\u001b[43mfc2\u001b[49m\u001b[43m(\u001b[49m\u001b[43mx\u001b[49m\u001b[43m)\u001b[49m\n\u001b[1;32m    140\u001b[0m x \u001b[38;5;241m=\u001b[39m residual \u001b[38;5;241m+\u001b[39m x\n\u001b[1;32m    142\u001b[0m \u001b[38;5;28;01mreturn\u001b[39;00m x, attn\n",
      "File \u001b[0;32m/exports/csce/eddie/inf/groups/ajitha_project/piyush/.conda/envs/MHCex38/lib/python3.8/site-packages/torch/nn/modules/module.py:1532\u001b[0m, in \u001b[0;36mModule._wrapped_call_impl\u001b[0;34m(self, *args, **kwargs)\u001b[0m\n\u001b[1;32m   1530\u001b[0m     \u001b[38;5;28;01mreturn\u001b[39;00m \u001b[38;5;28mself\u001b[39m\u001b[38;5;241m.\u001b[39m_compiled_call_impl(\u001b[38;5;241m*\u001b[39margs, \u001b[38;5;241m*\u001b[39m\u001b[38;5;241m*\u001b[39mkwargs)  \u001b[38;5;66;03m# type: ignore[misc]\u001b[39;00m\n\u001b[1;32m   1531\u001b[0m \u001b[38;5;28;01melse\u001b[39;00m:\n\u001b[0;32m-> 1532\u001b[0m     \u001b[38;5;28;01mreturn\u001b[39;00m \u001b[38;5;28;43mself\u001b[39;49m\u001b[38;5;241;43m.\u001b[39;49m\u001b[43m_call_impl\u001b[49m\u001b[43m(\u001b[49m\u001b[38;5;241;43m*\u001b[39;49m\u001b[43margs\u001b[49m\u001b[43m,\u001b[49m\u001b[43m \u001b[49m\u001b[38;5;241;43m*\u001b[39;49m\u001b[38;5;241;43m*\u001b[39;49m\u001b[43mkwargs\u001b[49m\u001b[43m)\u001b[49m\n",
      "File \u001b[0;32m/exports/csce/eddie/inf/groups/ajitha_project/piyush/.conda/envs/MHCex38/lib/python3.8/site-packages/torch/nn/modules/module.py:1541\u001b[0m, in \u001b[0;36mModule._call_impl\u001b[0;34m(self, *args, **kwargs)\u001b[0m\n\u001b[1;32m   1536\u001b[0m \u001b[38;5;66;03m# If we don't have any hooks, we want to skip the rest of the logic in\u001b[39;00m\n\u001b[1;32m   1537\u001b[0m \u001b[38;5;66;03m# this function, and just call forward.\u001b[39;00m\n\u001b[1;32m   1538\u001b[0m \u001b[38;5;28;01mif\u001b[39;00m \u001b[38;5;129;01mnot\u001b[39;00m (\u001b[38;5;28mself\u001b[39m\u001b[38;5;241m.\u001b[39m_backward_hooks \u001b[38;5;129;01mor\u001b[39;00m \u001b[38;5;28mself\u001b[39m\u001b[38;5;241m.\u001b[39m_backward_pre_hooks \u001b[38;5;129;01mor\u001b[39;00m \u001b[38;5;28mself\u001b[39m\u001b[38;5;241m.\u001b[39m_forward_hooks \u001b[38;5;129;01mor\u001b[39;00m \u001b[38;5;28mself\u001b[39m\u001b[38;5;241m.\u001b[39m_forward_pre_hooks\n\u001b[1;32m   1539\u001b[0m         \u001b[38;5;129;01mor\u001b[39;00m _global_backward_pre_hooks \u001b[38;5;129;01mor\u001b[39;00m _global_backward_hooks\n\u001b[1;32m   1540\u001b[0m         \u001b[38;5;129;01mor\u001b[39;00m _global_forward_hooks \u001b[38;5;129;01mor\u001b[39;00m _global_forward_pre_hooks):\n\u001b[0;32m-> 1541\u001b[0m     \u001b[38;5;28;01mreturn\u001b[39;00m \u001b[43mforward_call\u001b[49m\u001b[43m(\u001b[49m\u001b[38;5;241;43m*\u001b[39;49m\u001b[43margs\u001b[49m\u001b[43m,\u001b[49m\u001b[43m \u001b[49m\u001b[38;5;241;43m*\u001b[39;49m\u001b[38;5;241;43m*\u001b[39;49m\u001b[43mkwargs\u001b[49m\u001b[43m)\u001b[49m\n\u001b[1;32m   1543\u001b[0m \u001b[38;5;28;01mtry\u001b[39;00m:\n\u001b[1;32m   1544\u001b[0m     result \u001b[38;5;241m=\u001b[39m \u001b[38;5;28;01mNone\u001b[39;00m\n",
      "File \u001b[0;32m/exports/csce/eddie/inf/groups/ajitha_project/piyush/.conda/envs/MHCex38/lib/python3.8/site-packages/torch/nn/modules/linear.py:116\u001b[0m, in \u001b[0;36mLinear.forward\u001b[0;34m(self, input)\u001b[0m\n\u001b[1;32m    115\u001b[0m \u001b[38;5;28;01mdef\u001b[39;00m \u001b[38;5;21mforward\u001b[39m(\u001b[38;5;28mself\u001b[39m, \u001b[38;5;28minput\u001b[39m: Tensor) \u001b[38;5;241m-\u001b[39m\u001b[38;5;241m>\u001b[39m Tensor:\n\u001b[0;32m--> 116\u001b[0m     \u001b[38;5;28;01mreturn\u001b[39;00m \u001b[43mF\u001b[49m\u001b[38;5;241;43m.\u001b[39;49m\u001b[43mlinear\u001b[49m\u001b[43m(\u001b[49m\u001b[38;5;28;43minput\u001b[39;49m\u001b[43m,\u001b[49m\u001b[43m \u001b[49m\u001b[38;5;28;43mself\u001b[39;49m\u001b[38;5;241;43m.\u001b[39;49m\u001b[43mweight\u001b[49m\u001b[43m,\u001b[49m\u001b[43m \u001b[49m\u001b[38;5;28;43mself\u001b[39;49m\u001b[38;5;241;43m.\u001b[39;49m\u001b[43mbias\u001b[49m\u001b[43m)\u001b[49m\n",
      "\u001b[0;31mKeyboardInterrupt\u001b[0m: "
     ]
    }
   ],
   "source": [
    "for idx, batch_token in tqdm(enumerate(batch_tokens)):\n",
    "    print(get_esm_embedding(model, batch_tokens[idx:idx+1]))"
   ]
  },
  {
   "cell_type": "code",
   "execution_count": 38,
   "id": "e93da9fd",
   "metadata": {},
   "outputs": [],
   "source": [
    "# Get ESM1B representation\n",
    "sequence_representations = []\n",
    " \n",
    "for idx, token_len in tqdm(enumerate(batch_lens)):\n",
    "    batch_token = batch_tokens[idx:idx+1]\n",
    "    token_len = batch_lens[idx:idx+1]\n",
    "\n",
    "    sequence_representations.append(get_esm_embedding(token_len, batch_token))\n",
    "\n",
    "sequence_representations = np.array([i.cpu().numpy() for i in sequence_representations])\n",
    "\n",
    "# Save the representations\n",
    "with open('./Data/processed_data/HLA_esm1b.pkl','wb') as f:\n",
    "    pickle.dump({'HLA_full': batch_labels,\n",
    "                 'ESM1B': sequence_representations}, f)"
   ]
  },
  {
   "cell_type": "code",
   "execution_count": null,
   "id": "b61b06a5",
   "metadata": {},
   "outputs": [],
   "source": []
  },
  {
   "cell_type": "code",
   "execution_count": 74,
   "id": "199c59f3",
   "metadata": {},
   "outputs": [
    {
     "name": "stdout",
     "output_type": "stream",
     "text": [
      "mean squared error 99.00912933200003\n",
      "mean squared error 114.85357225399994\n",
      "mean squared error 60.863239955999994\n",
      "mean squared error 57.14541775800004\n",
      "mean squared error 46.94578872599997\n"
     ]
    }
   ],
   "source": [
    "# Train models using RF\n",
    "X = sequence_representations\n",
    "y = TD_full_df['MFI_ratio'].to_numpy()\n",
    "\n",
    "# Split the data into training and testing sets\n",
    "X_train, X_test, y_train, y_test = train_test_split(X, y, test_size=0.2, random_state=42)\n",
    "\n",
    "mse_rf_esm1b = []\n",
    "\n",
    "for i in range(5):\n",
    "    # Initialize and train the Random Forest regressor\n",
    "    RF = RandomForestRegressor(n_estimators=50, max_depth=30, random_state=i)\n",
    "    RF.fit(X_train, y_train)\n",
    "\n",
    "    # Make predictions on the test set\n",
    "    y_pred = RF.predict(X_test)\n",
    "\n",
    "    # Evaluate the model\n",
    "    mse = mean_squared_error(y_test, y_pred)\n",
    "    print(\"mean squared error\", mse)\n",
    "    \n",
    "    mse_rf_esm1b = mse_rf_esm1b + [mse]"
   ]
  },
  {
   "cell_type": "code",
   "execution_count": 69,
   "id": "25577837",
   "metadata": {},
   "outputs": [
    {
     "name": "stdout",
     "output_type": "stream",
     "text": [
      "mean squared_error 49.110562875322984\n",
      "mean squared_error 47.812032606092025\n",
      "mean squared_error 54.6433132187167\n",
      "mean squared_error 55.5833421051052\n",
      "mean squared_error 53.995255159151\n"
     ]
    },
    {
     "name": "stderr",
     "output_type": "stream",
     "text": [
      "/exports/csce/eddie/inf/groups/ajitha_project/piyush/.conda/envs/MHCex38/lib/python3.8/site-packages/sklearn/neural_network/_multilayer_perceptron.py:691: ConvergenceWarning: Stochastic Optimizer: Maximum iterations (10) reached and the optimization hasn't converged yet.\n",
      "  warnings.warn(\n",
      "/exports/csce/eddie/inf/groups/ajitha_project/piyush/.conda/envs/MHCex38/lib/python3.8/site-packages/sklearn/neural_network/_multilayer_perceptron.py:691: ConvergenceWarning: Stochastic Optimizer: Maximum iterations (10) reached and the optimization hasn't converged yet.\n",
      "  warnings.warn(\n",
      "/exports/csce/eddie/inf/groups/ajitha_project/piyush/.conda/envs/MHCex38/lib/python3.8/site-packages/sklearn/neural_network/_multilayer_perceptron.py:691: ConvergenceWarning: Stochastic Optimizer: Maximum iterations (10) reached and the optimization hasn't converged yet.\n",
      "  warnings.warn(\n",
      "/exports/csce/eddie/inf/groups/ajitha_project/piyush/.conda/envs/MHCex38/lib/python3.8/site-packages/sklearn/neural_network/_multilayer_perceptron.py:691: ConvergenceWarning: Stochastic Optimizer: Maximum iterations (10) reached and the optimization hasn't converged yet.\n",
      "  warnings.warn(\n",
      "/exports/csce/eddie/inf/groups/ajitha_project/piyush/.conda/envs/MHCex38/lib/python3.8/site-packages/sklearn/neural_network/_multilayer_perceptron.py:691: ConvergenceWarning: Stochastic Optimizer: Maximum iterations (10) reached and the optimization hasn't converged yet.\n",
      "  warnings.warn(\n"
     ]
    }
   ],
   "source": [
    "# Step 1: Import necessary libraries\n",
    "import numpy as np\n",
    "from sklearn.model_selection import train_test_split\n",
    "from sklearn.neural_network import MLPRegressor\n",
    "from sklearn.metrics import mean_squared_error\n",
    "\n",
    "\n",
    "# Split the dataset into training and testing sets\n",
    "X_train, X_test, y_train, y_test = train_test_split(X, y, test_size=0.2, random_state=42)\n",
    "\n",
    "mse_mlp_esm1b = []\n",
    "for i in range(5):\n",
    "\n",
    "    # Initialize and train the MLP model\n",
    "    # You can adjust hidden_layer_sizes, activation, solver, and other parameters as needed\n",
    "    mlp = MLPRegressor(hidden_layer_sizes=(50,), activation='relu', solver='adam', max_iter=10, random_state=i)\n",
    "    mlp.fit(X_train, y_train)\n",
    "\n",
    "    # Step 5: Evaluate the model\n",
    "    # Make predictions on the test set\n",
    "    y_pred = mlp.predict(X_test)\n",
    "\n",
    "    # Calculate the mean squared error\n",
    "    mse = mean_squared_error(y_test, y_pred)\n",
    "    print(f\"mean squared_error {mse}\")\n",
    "    \n",
    "    mse_mlp_esm1b = mse_mlp_esm1b + [mse]"
   ]
  },
  {
   "cell_type": "code",
   "execution_count": 75,
   "id": "cba6b259",
   "metadata": {},
   "outputs": [
    {
     "data": {
      "text/plain": [
       "<AxesSubplot: xlabel='Model', ylabel='mean_squared_error'>"
      ]
     },
     "execution_count": 75,
     "metadata": {},
     "output_type": "execute_result"
    },
    {
     "data": {
      "image/png": "[encoded data removed]",
      "text/plain": [
       "<Figure size 640x480 with 1 Axes>"
      ]
     },
     "metadata": {},
     "output_type": "display_data"
    }
   ],
   "source": [
    "\n",
    "col1 = mse_rf_seq + mse_rf_esm1b + mse_mlp_esm1b\n",
    "\n",
    "col2 = ['RF seq']*5 +  ['RF ESM1B']*5 +  ['MLP ESM1B']*5\n",
    "\n",
    "sns.boxplot(data=pd.DataFrame({'Model':col2,\n",
    "                              'mean_squared_error':col1}),\n",
    "          x = 'Model', y='mean_squared_error')"
   ]
  },
  {
   "cell_type": "code",
   "execution_count": null,
   "id": "7eec1945",
   "metadata": {},
   "outputs": [],
   "source": []
  },
  {
   "cell_type": "code",
   "execution_count": null,
   "id": "2b8a1ee3",
   "metadata": {},
   "outputs": [],
   "source": []
  }
 ],
 "metadata": {
  "kernelspec": {
   "display_name": "Python 3 (ipykernel)",
   "language": "python",
   "name": "python3"
  },
  "language_info": {
   "codemirror_mode": {
    "name": "ipython",
    "version": 3
   },
   "file_extension": ".py",
   "mimetype": "text/x-python",
   "name": "python",
   "nbconvert_exporter": "python",
   "pygments_lexer": "ipython3",
   "version": "3.8.16"
  }
 },
 "nbformat": 4,
 "nbformat_minor": 5
}
