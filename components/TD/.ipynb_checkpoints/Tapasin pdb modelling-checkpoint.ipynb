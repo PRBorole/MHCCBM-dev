{
 "cells": [
  {
   "cell_type": "code",
   "execution_count": 1,
   "id": "1818f14a",
   "metadata": {},
   "outputs": [],
   "source": [
    "import pandas as pd"
   ]
  },
  {
   "cell_type": "code",
   "execution_count": 12,
   "id": "3b6510be",
   "metadata": {},
   "outputs": [
    {
     "name": "stdout",
     "output_type": "stream",
     "text": [
      "Number of alpha chain contacts & tapasin with hdock:  81\n",
      "Number of alpha chain contacts & tapasin with GRAMM:  86\n",
      "Number of alpha chain contacts & tapasin original:  70\n"
     ]
    }
   ],
   "source": [
    "hdock_df = pd.read_csv('./../../data/TD/PDB/B4405_tapasin_docked_HDOCK.csv', sep='\\t').drop_duplicates()\n",
    "hdock_df['AD'] = [i+j for i,j in zip(hdock_df['A'],hdock_df['D'])]\n",
    "\n",
    "gramm_df = pd.read_csv('./../../data/TD/PDB/B4405_tapasin_GRAMM.csv', sep='\\t').drop_duplicates()\n",
    "gramm_df['AD'] = [i+j for i,j in zip(gramm_df['A'],gramm_df['D'])]\n",
    "\n",
    "pdb_df = pd.read_csv('./../../data/TD/PDB/B4405_tapasin_7tue.csv', sep='\\t').drop_duplicates()\n",
    "pdb_df['AD'] = [i+j for i,j in zip(pdb_df['A'],pdb_df['D'])]\n",
    "\n",
    "print(\"Number of alpha chain contacts & tapasin with hdock: \", len(hdock_df))\n",
    "print(\"Number of alpha chain contacts & tapasin with GRAMM: \", len(gramm_df))\n",
    "print(\"Number of alpha chain contacts & tapasin original: \", len(pdb_df))"
   ]
  },
  {
   "cell_type": "code",
   "execution_count": 11,
   "id": "7cef3e80",
   "metadata": {},
   "outputs": [
    {
     "data": {
      "text/plain": [
       "(69, 44)"
      ]
     },
     "execution_count": 11,
     "metadata": {},
     "output_type": "execute_result"
    }
   ],
   "source": [
    "len(pdb_df.merge(hdock_df,on='AD')), len(pdb_df.merge(gramm_df,on='AD'))"
   ]
  },
  {
   "cell_type": "code",
   "execution_count": 17,
   "id": "16d91ccc",
   "metadata": {},
   "outputs": [
    {
     "data": {
      "text/html": [
       "<div>\n",
       "<style scoped>\n",
       "    .dataframe tbody tr th:only-of-type {\n",
       "        vertical-align: middle;\n",
       "    }\n",
       "\n",
       "    .dataframe tbody tr th {\n",
       "        vertical-align: top;\n",
       "    }\n",
       "\n",
       "    .dataframe thead th {\n",
       "        text-align: right;\n",
       "    }\n",
       "</style>\n",
       "<table border=\"1\" class=\"dataframe\">\n",
       "  <thead>\n",
       "    <tr style=\"text-align: right;\">\n",
       "      <th></th>\n",
       "      <th>Unnamed: 0</th>\n",
       "      <th>HLA_full</th>\n",
       "      <th>HLA</th>\n",
       "      <th>MFI_ratio</th>\n",
       "      <th>SD</th>\n",
       "      <th>Source</th>\n",
       "    </tr>\n",
       "  </thead>\n",
       "  <tbody>\n",
       "    <tr>\n",
       "      <th>55</th>\n",
       "      <td>55</td>\n",
       "      <td>HLA-B*44:05</td>\n",
       "      <td>B*44:05</td>\n",
       "      <td>1.82</td>\n",
       "      <td>0.33</td>\n",
       "      <td>Bashirova</td>\n",
       "    </tr>\n",
       "  </tbody>\n",
       "</table>\n",
       "</div>"
      ],
      "text/plain": [
       "    Unnamed: 0     HLA_full      HLA  MFI_ratio    SD     Source\n",
       "55          55  HLA-B*44:05  B*44:05       1.82  0.33  Bashirova"
      ]
     },
     "execution_count": 17,
     "metadata": {},
     "output_type": "execute_result"
    }
   ],
   "source": [
    "mfi_df = pd.read_csv('./../../data/TD/TD_MFI_ratio.csv')\n",
    "mfi_df = mfi_df[mfi_df['Source']=='Bashirova']\n",
    "mfi_df[mfi_df['HLA_full']=='HLA-B*44:05']"
   ]
  },
  {
   "cell_type": "code",
   "execution_count": 1,
   "id": "7b074460",
   "metadata": {},
   "outputs": [],
   "source": [
    "# check 10 models and seeif delta G from HDOCK works well as MFI"
   ]
  },
  {
   "cell_type": "code",
   "execution_count": null,
   "id": "34ab21ac",
   "metadata": {},
   "outputs": [],
   "source": []
  }
 ],
 "metadata": {
  "kernelspec": {
   "display_name": "Python 3 (ipykernel)",
   "language": "python",
   "name": "python3"
  },
  "language_info": {
   "codemirror_mode": {
    "name": "ipython",
    "version": 3
   },
   "file_extension": ".py",
   "mimetype": "text/x-python",
   "name": "python",
   "nbconvert_exporter": "python",
   "pygments_lexer": "ipython3",
   "version": "3.8.16"
  }
 },
 "nbformat": 4,
 "nbformat_minor": 5
}
