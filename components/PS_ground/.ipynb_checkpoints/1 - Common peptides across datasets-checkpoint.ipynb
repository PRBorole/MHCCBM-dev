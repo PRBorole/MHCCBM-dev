{
 "cells": [
  {
   "cell_type": "code",
   "execution_count": 52,
   "id": "f0f8d3ae",
   "metadata": {},
   "outputs": [],
   "source": [
    "import pandas as pd\n",
    "import numpy as np\n",
    "from tqdm import tqdm\n",
    "\n",
    "from sklearn.linear_model import LogisticRegression\n",
    "from sklearn.model_selection import train_test_split, StratifiedKFold\n",
    "from sklearn.metrics import auc, roc_auc_score, f1_score, precision_recall_curve, accuracy_score,recall_score, precision_score"
   ]
  },
  {
   "cell_type": "code",
   "execution_count": null,
   "id": "2c720834",
   "metadata": {},
   "outputs": [],
   "source": [
    "\n"
   ]
  },
  {
   "cell_type": "code",
   "execution_count": 48,
   "id": "6f4cde92",
   "metadata": {},
   "outputs": [
    {
     "name": "stdout",
     "output_type": "stream",
     "text": [
      "Number of BA dataset peptides:  35814\n",
      "Number of PG dataset peptides:  297548\n",
      "Number of TAP dataset peptides:  868\n",
      "Number of PS dataset peptides:  71427\n",
      "Number of HLA in TD:  97\n"
     ]
    }
   ],
   "source": [
    "# load BA data\n",
    "BA_df = pd.read_csv('./../../data/BA/training_df.csv')\n",
    "BA_df = BA_df[['allele','peptide','y']].rename(columns={'y':'BA_y'})\n",
    "print(\"Number of BA dataset peptides: \", len(BA_df['peptide'].unique()))\n",
    "\n",
    "# load PG data\n",
    "PG_df = pd.read_csv('./../../data/PG/PG.csv')\n",
    "PG_df = PG_df[['peptide','hit']].rename(columns={'hit':'PG_y'})\n",
    "print(\"Number of PG dataset peptides: \", len(PG_df['peptide'].unique().tolist()))\n",
    "\n",
    "# load TAP data\n",
    "TAP_df = pd.read_csv('./../../data/TAP/classification_DS868.csv', sep='\\t')\n",
    "TAP_df = TAP_df[['peptide','label']].rename(columns={'label':'TAP_y'})\n",
    "print(\"Number of TAP dataset peptides: \", len(TAP_df['peptide'].unique().tolist()))\n",
    "\n",
    "# load PS data\n",
    "PS_df = pd.read_csv('./../../data/PS/Data_S6.csv')\n",
    "PS_df = PS_df[['peptide','hit','hla']].rename(columns={'hit':'PS_y','hla':'allele'})\n",
    "print(\"Number of PS dataset peptides: \", len(PS_df['peptide'].unique().tolist()))\n",
    "\n",
    "# load TD data\n",
    "TD_df = pd.read_csv('./../../data/TD/TD_MFI_ratio.csv')\n",
    "TD_df = TD_df[TD_df['Source']=='Bashirova']\n",
    "TD_df = TD_df[['HLA_full','MFI_ratio']].rename(columns={'HLA_full':'allele'})\n",
    "TD_df['TD_y'] = [1 if i>2 else 0 for i in TD_df['MFI_ratio']]\n",
    "print(\"Number of HLA in TD: \", len(TD_df))\n"
   ]
  },
  {
   "cell_type": "code",
   "execution_count": 49,
   "id": "ead3f9bb",
   "metadata": {},
   "outputs": [
    {
     "name": "stderr",
     "output_type": "stream",
     "text": [
      "100%|██████████████████████████████████████████████████████████████████████████████████████████████████████████████████████████████████████████████████████████████| 75378/75378 [00:50<00:00, 1493.49it/s]\n"
     ]
    }
   ],
   "source": [
    "# correct PS_df\n",
    "ps_ls = []\n",
    "\n",
    "for idx in tqdm(range(len(PS_df))):\n",
    "    dict_ = PS_df.iloc[idx].to_dict()\n",
    "    dict_['allele'] = dict_['allele'].split(' ')\n",
    "    for k in dict_.keys():\n",
    "        if k !='allele':\n",
    "            dict_[k] = [dict_[k]]*len(dict_['allele'])\n",
    "\n",
    "    ps_ls = ps_ls + [pd.DataFrame(dict_)]\n",
    "    \n",
    "PS_df = pd.concat(ps_ls).reset_index(drop=True)"
   ]
  },
  {
   "cell_type": "code",
   "execution_count": null,
   "id": "b2f7b0ad",
   "metadata": {},
   "outputs": [],
   "source": []
  },
  {
   "cell_type": "code",
   "execution_count": 45,
   "id": "7b751742",
   "metadata": {},
   "outputs": [],
   "source": [
    "#  Get common data\n",
    "common_df = BA_df.merge(PS_df, how='left',on=['peptide','allele']).fillna(0.0).merge(PG_df,on='peptide')\n",
    "common_df = common_df.merge(TAP_df, on='peptide').merge(TD_df, on='allele')\n",
    "common_df.to_csv('./../../data/PS/combined_df_ground_truth.csv')"
   ]
  },
  {
   "cell_type": "code",
   "execution_count": 43,
   "id": "fd792895",
   "metadata": {},
   "outputs": [
    {
     "name": "stdout",
     "output_type": "stream",
     "text": [
      "Number of pairs:  210\n",
      "Number of unique peptides:  27\n",
      "Number of hla:  46\n",
      "\n",
      "\n",
      "% positive BA_y:  0.10952380952380952\n",
      "% positive PG_y:  1.0\n",
      "% positive TAP_y:  0.6904761904761905\n",
      "% positive TD_y:  0.861904761904762\n",
      "% positive PS_y:  0.3380952380952381\n"
     ]
    }
   ],
   "source": [
    "# print stats\n",
    "print(\"Number of pairs: \", len(common_df))\n",
    "print(\"Number of unique peptides: \", len(common_df['peptide'].unique()))\n",
    "print(\"Number of hla: \", len(common_df['allele'].unique()))\n",
    "\n",
    "print(\"\\n\")\n",
    "print(\"% positive BA_y: \", common_df['BA_y'].sum()/len(common_df))\n",
    "print(\"% positive PG_y: \", common_df['PG_y'].sum()/len(common_df))\n",
    "print(\"% positive TAP_y: \", common_df['TAP_y'].sum()/len(common_df))\n",
    "print(\"% positive TD_y: \", common_df['TD_y'].sum()/len(common_df))\n",
    "print(\"% positive PS_y: \", common_df['PS_y'].sum()/len(common_df))"
   ]
  },
  {
   "cell_type": "markdown",
   "id": "250f2402",
   "metadata": {},
   "source": [
    "# baselines"
   ]
  },
  {
   "cell_type": "code",
   "execution_count": 58,
   "id": "6d2c9ec9",
   "metadata": {},
   "outputs": [
    {
     "name": "stdout",
     "output_type": "stream",
     "text": [
      "positive  PS:  0.0015400822446698715  positive  BA:  0.24040790789452576\n",
      "positive  PS:  0.9273912031649988  positive  PG:  0.8475954496297006\n",
      "positive  PS:  1.0  positive  TAP:  0.6844660194174758\n",
      "positive  PS:  0.33161143376543767  positive  TD:  0.796579805420945\n"
     ]
    },
    {
     "data": {
      "text/html": [
       "<div>\n",
       "<style scoped>\n",
       "    .dataframe tbody tr th:only-of-type {\n",
       "        vertical-align: middle;\n",
       "    }\n",
       "\n",
       "    .dataframe tbody tr th {\n",
       "        vertical-align: top;\n",
       "    }\n",
       "\n",
       "    .dataframe thead th {\n",
       "        text-align: right;\n",
       "    }\n",
       "</style>\n",
       "<table border=\"1\" class=\"dataframe\">\n",
       "  <thead>\n",
       "    <tr style=\"text-align: right;\">\n",
       "      <th></th>\n",
       "      <th>f1</th>\n",
       "      <th>accuracy</th>\n",
       "      <th>precision</th>\n",
       "      <th>recall</th>\n",
       "    </tr>\n",
       "  </thead>\n",
       "  <tbody>\n",
       "    <tr>\n",
       "      <th>BA_y</th>\n",
       "      <td>0.004244</td>\n",
       "      <td>0.759079</td>\n",
       "      <td>0.002135</td>\n",
       "      <td>0.333333</td>\n",
       "    </tr>\n",
       "    <tr>\n",
       "      <th>PG_y</th>\n",
       "      <td>0.930673</td>\n",
       "      <td>0.876946</td>\n",
       "      <td>0.974482</td>\n",
       "      <td>0.890634</td>\n",
       "    </tr>\n",
       "    <tr>\n",
       "      <th>TAP_y</th>\n",
       "      <td>0.812680</td>\n",
       "      <td>0.684466</td>\n",
       "      <td>1.000000</td>\n",
       "      <td>0.684466</td>\n",
       "    </tr>\n",
       "    <tr>\n",
       "      <th>TD_y</th>\n",
       "      <td>0.467884</td>\n",
       "      <td>0.399672</td>\n",
       "      <td>0.331331</td>\n",
       "      <td>0.795906</td>\n",
       "    </tr>\n",
       "  </tbody>\n",
       "</table>\n",
       "</div>"
      ],
      "text/plain": [
       "             f1  accuracy  precision    recall\n",
       "BA_y   0.004244  0.759079   0.002135  0.333333\n",
       "PG_y   0.930673  0.876946   0.974482  0.890634\n",
       "TAP_y  0.812680  0.684466   1.000000  0.684466\n",
       "TD_y   0.467884  0.399672   0.331331  0.795906"
      ]
     },
     "execution_count": 58,
     "metadata": {},
     "output_type": "execute_result"
    }
   ],
   "source": [
    "# Baseline\n",
    "baseline_df = {'f1':[], 'accuracy': [], 'precision':[], 'recall':[]}\n",
    "col_ls = ['BA_y','PG_y','TAP_y','TD_y']\n",
    "\n",
    "for col in col_ls:\n",
    "    \n",
    "    if 'BA' in col:\n",
    "        common_df = BA_df.merge(PS_df, how='left',on=['peptide','allele']).fillna(0.0)\n",
    "        print('positive  PS: ',common_df['PS_y'].sum()/len(common_df),\n",
    "              ' positive  BA: ',common_df['BA_y'].sum()/len(common_df))\n",
    "    elif 'PG' in col:\n",
    "        common_df = PG_df.merge(PS_df, on='peptide')\n",
    "        print('positive  PS: ',common_df['PS_y'].sum()/len(common_df),\n",
    "              ' positive  PG: ',common_df['PG_y'].sum()/len(common_df))\n",
    "    elif 'TAP' in col:\n",
    "        common_df = TAP_df.merge(PS_df, on='peptide')\n",
    "        print('positive  PS: ',common_df['PS_y'].sum()/len(common_df),\n",
    "              ' positive  TAP: ',common_df['TAP_y'].sum()/len(common_df))\n",
    "    elif 'TD' in col:\n",
    "        common_df = PS_df.merge(TD_df, on='allele')\n",
    "        print('positive  PS: ',common_df['PS_y'].sum()/len(common_df),\n",
    "              ' positive  TD: ',common_df['TD_y'].sum()/len(common_df))\n",
    "    \n",
    "    # calculate f1 score\n",
    "    f1 = f1_score(common_df['PS_y'],common_df[col])\n",
    "    baseline_df['f1'] = baseline_df['f1'] + [f1]\n",
    "\n",
    "    # calculate accuracy score\n",
    "    accuracy = accuracy_score(common_df['PS_y'],common_df[col])\n",
    "    baseline_df['accuracy'] = baseline_df['accuracy'] + [accuracy]\n",
    "\n",
    "    # calculate precision score\n",
    "    precision = precision_score(common_df['PS_y'],common_df[col])\n",
    "    baseline_df['precision'] = baseline_df['precision'] + [precision]\n",
    "    \n",
    "    # calculate recall score\n",
    "    recall = recall_score(common_df['PS_y'],common_df[col])\n",
    "    baseline_df['recall'] = baseline_df['recall'] + [recall]\n",
    "    \n",
    "pd.DataFrame(baseline_df, index=col_ls)"
   ]
  },
  {
   "cell_type": "code",
   "execution_count": null,
   "id": "351820b6",
   "metadata": {},
   "outputs": [],
   "source": []
  },
  {
   "cell_type": "code",
   "execution_count": null,
   "id": "fdf4b53c",
   "metadata": {},
   "outputs": [],
   "source": []
  }
 ],
 "metadata": {
  "kernelspec": {
   "display_name": "Python 3 (ipykernel)",
   "language": "python",
   "name": "python3"
  },
  "language_info": {
   "codemirror_mode": {
    "name": "ipython",
    "version": 3
   },
   "file_extension": ".py",
   "mimetype": "text/x-python",
   "name": "python",
   "nbconvert_exporter": "python",
   "pygments_lexer": "ipython3",
   "version": "3.8.16"
  }
 },
 "nbformat": 4,
 "nbformat_minor": 5
}
